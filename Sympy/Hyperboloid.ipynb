{
    "cells": [
        {
            "source": [
                "import plotly\n",
                "print(plotly.__version__)"
            ],
            "outputs": [
                {
                    "name": "stdout",
                    "text": [
                        "2.7.0\n"
                    ],
                    "output_type": "stream"
                }
            ],
            "metadata": {},
            "cell_type": "code",
            "execution_count": 22
        },
        {
            "source": [
                "import plotly.graph_objs as go\n",
                "import plotly.plotly as py\n",
                "import plotly.tools as tls\n",
                "import plotly.figure_factory as ff\n",
                "\n",
                "import copy\n",
                "import pandas as pd\n",
                "import numpy as np\n",
                "from numpy import pi, sin, cos, sqrt"
            ],
            "outputs": [],
            "metadata": {
                "collapsed": true
            },
            "cell_type": "code",
            "execution_count": 23
        },
        {
            "source": [
                "vf = np.load('vortex.npy')\n",
                "vf.shape"
            ],
            "outputs": [
                {
                    "data": {
                        "text/plain": [
                            "(2000, 6)"
                        ]
                    },
                    "metadata": {},
                    "output_type": "execute_result",
                    "execution_count": 58
                }
            ],
            "metadata": {},
            "cell_type": "code",
            "execution_count": 58
        },
        {
            "source": [
                "Examine the tangent vector field along the coordinate lines of a parameterized hyperboloid in this example."
            ],
            "metadata": {},
            "cell_type": "markdown"
        },
        {
            "source": [
                "def flatten_vf(x, y, z, u, v, w):\n",
                "    return x.flatten(), y.flatten(), z.flatten(), u.flatten(), v.flatten(), w.flatten()"
            ],
            "outputs": [],
            "metadata": {
                "collapsed": true
            },
            "cell_type": "code",
            "execution_count": 59
        },
        {
            "source": [
                "x, y, z, u, v, w = vf.T"
            ],
            "outputs": [],
            "metadata": {
                "collapsed": true
            },
            "cell_type": "code",
            "execution_count": 60
        },
        {
            "source": [
                "def hyp_parameterization(u, v, a, b):\n",
                "    return a*sin(v)*sqrt(1+u**2), b*u, a*cos(v)*sqrt(1+u**2)"
            ],
            "outputs": [],
            "metadata": {
                "collapsed": true
            },
            "cell_type": "code",
            "execution_count": 61
        },
        {
            "source": [
                "def tangent_vf(u, v, a, b):\n",
                "    return a*sin(v)*u/sqrt(1+u**2), b*np.ones(u.shape), a*cos(v)*u/sqrt(1+u**2)"
            ],
            "outputs": [],
            "metadata": {
                "collapsed": true
            },
            "cell_type": "code",
            "execution_count": 62
        },
        {
            "source": [
                "a = 1\n",
                "b = 2\n",
                "t = np.linspace(-5, 0, 15)\n",
                "theta = np.linspace(0, 2*pi, 14)\n",
                "t, theta = np.meshgrid(t,theta)\n",
                "X, Y, Z = hyp_parameterization(t, theta, a, b)\n",
                "U, V, W = tangent_vf(t, theta, a, b)\n",
                "x, y, z, u, v, w = flatten_vf(X,Y,Z,U,V,W)"
            ],
            "outputs": [],
            "metadata": {
                "collapsed": true
            },
            "cell_type": "code",
            "execution_count": 63
        },
        {
            "source": [
                "pl_red = [[0, '#bd1540'],\n",
                "          [1, '#bd1540']]"
            ],
            "outputs": [],
            "metadata": {
                "collapsed": true
            },
            "cell_type": "code",
            "execution_count": 64
        },
        {
            "source": [
                "trace3 = dict(type='cone',\n",
                "              x=x,\n",
                "              y=y,\n",
                "              z=z,\n",
                "              u=u,\n",
                "              v=v,\n",
                "              w=w,\n",
                "              sizemode='scaled',\n",
                "              sizeref=1,\n",
                "              showscale=False,\n",
                "              colorscale=pl_red, \n",
                "              colorbar=dict(thickness=20, ticklen=4), \n",
                "              anchor='tail',\n",
                "              opacity=0.8\n",
                "           )"
            ],
            "outputs": [],
            "metadata": {},
            "cell_type": "code",
            "execution_count": 65
        },
        {
            "source": [
                "axis = dict(showbackground=True, \n",
                "            backgroundcolor=\"rgb(235, 235,235)\",\n",
                "            gridcolor=\"rgb(255, 255, 255)\",      \n",
                "            zerolinecolor=\"rgb(255, 255, 255)\")\n",
                "\n",
                "\n",
                "layout_h = dict(width=800,\n",
                "                height=650,\n",
                "                autosize=False,\n",
                "                scene=dict( camera=dict(eye=dict(x=1.25, y=1.25, z=0.6)),\n",
                "                     xaxis=dict(axis), \n",
                "                     yaxis=dict(axis), \n",
                "                     zaxis=dict(axis),\n",
                "                     aspectratio=dict(x=1,\n",
                "                                      y=1,\n",
                "                                      z=1\n",
                "                                     ))\n",
                "                    )"
            ],
            "outputs": [],
            "metadata": {},
            "cell_type": "code",
            "execution_count": 66
        },
        {
            "source": [
                "fig3 = dict(data=[trace3], layout=layout_h)\n",
                "py.iplot(fig3, filename='Hyperboloid',validate=False)"
            ],
            "outputs": [
                {
                    "data": {
                        "text/html": [
                            "<iframe id=\"igraph\" scrolling=\"no\" style=\"border:none;\" seamless=\"seamless\" src=\"https://plot.ly/~Dreamshot/9267.embed\" height=\"650px\" width=\"800px\"></iframe>"
                        ],
                        "text/plain": [
                            "<plotly.tools.PlotlyDisplay object>"
                        ]
                    },
                    "metadata": {},
                    "output_type": "execute_result",
                    "execution_count": 67
                }
            ],
            "metadata": {
                "scrolled": true
            },
            "cell_type": "code",
            "execution_count": 67
        },
        {
            "source": [],
            "outputs": [],
            "metadata": {
                "collapsed": true
            },
            "cell_type": "code",
            "execution_count": null
        }
    ],
    "metadata": {
        "kernelspec": {
            "name": "python3",
            "language": "python",
            "display_name": "Python 3"
        },
        "language_info": {
            "name": "python",
            "version": "3.6.1",
            "mimetype": "text/x-python",
            "file_extension": ".py",
            "pygments_lexer": "ipython3",
            "codemirror_mode": {
                "name": "ipython",
                "version": 3
            },
            "nbconvert_exporter": "python"
        }
    },
    "nbformat": 4,
    "nbformat_minor": 2
}