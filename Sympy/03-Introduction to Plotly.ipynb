{
 "cells": [
  {
   "cell_type": "code",
   "execution_count": null,
   "metadata": {},
   "outputs": [],
   "source": [
    "import plotly.graph_objects as go\n",
    "import plotly.express as px\n",
    "from PIL import Image\n",
    "import numpy as np"
   ]
  },
  {
   "cell_type": "code",
   "execution_count": null,
   "metadata": {},
   "outputs": [],
   "source": [
    "#import plotly.io as pio\n",
    "#pio.renderers.default = \"notebook\""
   ]
  },
  {
   "cell_type": "markdown",
   "metadata": {},
   "source": [
    "# 2D"
   ]
  },
  {
   "cell_type": "markdown",
   "metadata": {},
   "source": [
    "Para começar temos que criar uma figura vazia. Depois a gente adiciona os plots dentro dessa figura vazia"
   ]
  },
  {
   "cell_type": "code",
   "execution_count": null,
   "metadata": {},
   "outputs": [],
   "source": [
    "fig = go.Figure()"
   ]
  },
  {
   "cell_type": "markdown",
   "metadata": {},
   "source": [
    "Agora vamos plotar alguns pontos dessa figura vazia"
   ]
  },
  {
   "cell_type": "code",
   "execution_count": null,
   "metadata": {},
   "outputs": [],
   "source": [
    "fig.add_scatter(x=[0, 1, 2, 3, 4], y=[0, 1, 4, 9, 16],mode = 'markers')\n",
    "fig.show()"
   ]
  },
  {
   "cell_type": "markdown",
   "metadata": {},
   "source": [
    "Para ter uma linha entre esse pontos temos que mudar o parametro *mode*. Prestem atenção que estou recriando a figura vazia novamente. Pois é a gente reutilizar a anterior adicianamos em cima do grafico já existente."
   ]
  },
  {
   "cell_type": "code",
   "execution_count": null,
   "metadata": {},
   "outputs": [],
   "source": [
    "fig = go.Figure()\n",
    "fig.add_scatter(x=[0, 1, 2, 3, 4], y=[0, 1, 4, 9, 16],mode = 'lines')\n",
    "fig.show()"
   ]
  },
  {
   "cell_type": "markdown",
   "metadata": {},
   "source": [
    "E para ter os pontos e as linhas juntos temos que usar *mode = 'lines+markers'*; Ou não declarar o parametro *mode*"
   ]
  },
  {
   "cell_type": "code",
   "execution_count": null,
   "metadata": {},
   "outputs": [],
   "source": [
    "fig = go.Figure()\n",
    "fig.add_scatter(x=[0, 1, 2, 3, 4], y=[0, 1, 4, 9, 16],mode = 'lines+markers')\n",
    "fig.show()"
   ]
  },
  {
   "cell_type": "markdown",
   "metadata": {},
   "source": [
    "Se a gente aumentar o numero dos pontos o plot vai ficar mais suave"
   ]
  },
  {
   "cell_type": "code",
   "execution_count": null,
   "metadata": {
    "scrolled": true
   },
   "outputs": [],
   "source": [
    "fig = go.Figure()\n",
    "xx=np.arange(0,4,0.1)\n",
    "yy = xx**2\n",
    "fig.add_scatter(x = xx, y=yy, mode = 'lines+markers')\n",
    "fig.show()"
   ]
  },
  {
   "cell_type": "markdown",
   "metadata": {},
   "source": [
    "Como outro exemplo temos a seguinte plotagem. Olham que o formato é um pouco diferente. Quando só temos um grafico em uma figura podemos fazer isso."
   ]
  },
  {
   "cell_type": "code",
   "execution_count": null,
   "metadata": {},
   "outputs": [],
   "source": [
    "\n",
    "# gerar 100 numeros entre 0 e 10\n",
    "t = np.linspace(0, 10, 100)\n",
    "\n",
    "y = np.sin(t)\n",
    "\n",
    "fig = go.Figure(data=go.Scatter(x=t, y=y, mode='markers'))\n",
    "\n",
    "fig.show()"
   ]
  },
  {
   "cell_type": "markdown",
   "metadata": {},
   "source": [
    "Para plotar um circulo de raio 1"
   ]
  },
  {
   "cell_type": "code",
   "execution_count": null,
   "metadata": {},
   "outputs": [],
   "source": [
    "t = np.linspace(0,2*np.pi,100)\n",
    "fig = go.Figure(data=go.Scatter(x = np.sin(t), y = np.cos(t), mode='markers+lines'))\n",
    "fig.show()"
   ]
  },
  {
   "cell_type": "code",
   "execution_count": null,
   "metadata": {},
   "outputs": [],
   "source": [
    "t = np.linspace(0,2*np.pi,100)\n",
    "px.line(x = np.sin(t), y = np.cos(t))"
   ]
  },
  {
   "cell_type": "markdown",
   "metadata": {},
   "source": [
    "Esse circulo parece uma elipse! Para consertar esse problema temos que acrescentar um comando"
   ]
  },
  {
   "cell_type": "code",
   "execution_count": null,
   "metadata": {},
   "outputs": [],
   "source": [
    "t = np.linspace(0,2*np.pi,100)\n",
    "fig = go.Figure()\n",
    "fig.add_scatter(x = np.sin(t), y = np.cos(t), mode='markers+lines')\n",
    "fig.update_layout(yaxis=dict(scaleanchor=\"x\"))\n",
    "fig.show()"
   ]
  },
  {
   "cell_type": "code",
   "execution_count": null,
   "metadata": {},
   "outputs": [],
   "source": [
    "fig = go.Figure()\n",
    "fig.add_bar(y=[2, 3, 1])\n",
    "fig.show()"
   ]
  },
  {
   "cell_type": "code",
   "execution_count": null,
   "metadata": {},
   "outputs": [],
   "source": [
    "from plotly.subplots import make_subplots\n",
    "fig = make_subplots(rows=1, cols=2)\n",
    "fig.add_scatter(y=[4, 2, 1], mode=\"lines\", row=1, col=1)\n",
    "fig.add_bar(y=[2, 1, 3], row=1, col=2)\n",
    "fig.show()"
   ]
  },
  {
   "cell_type": "markdown",
   "metadata": {},
   "source": [
    "Similar to the above plot but with diferent syntax"
   ]
  },
  {
   "cell_type": "code",
   "execution_count": null,
   "metadata": {},
   "outputs": [],
   "source": [
    "from plotly.subplots import make_subplots\n",
    "fig = make_subplots(rows=1, cols=2)\n",
    "fig.add_scatter(y=[4, 2, 1], mode=\"lines\", row=1, col=1, name='line')\n",
    "fig.add_bar(y=[2, 1, 3], row=1, col=2, name='bar')\n",
    "fig.update_layout(title='Dois Graficos')\n",
    "fig.show()"
   ]
  },
  {
   "cell_type": "markdown",
   "metadata": {},
   "source": [
    "The following codes are equivalentes\n",
    "```python\n",
    "fig.update_layout(title_text=\"A Bar Chart\",\n",
    "                  title_font_size=30)\n",
    "\n",
    "fig.update_layout(title_text=\"A Bar Chart\",\n",
    "                  title_font=dict(size=30))\n",
    "\n",
    "\n",
    "fig.update_layout(title=dict(text=\"A Bar Chart\"),\n",
    "                             font=dict(size=30))\n",
    "\n",
    "fig.update_layout({\"title\": {\"text\": \"A Bar Chart\",\n",
    "                             \"font\": {\"size\": 30}}})\n",
    "\n",
    "fig.update_layout(\n",
    "    title=go.layout.Title(text=\"A Bar Chart\",\n",
    "                          font=go.layout.title.Font(size=30)));\n",
    "```"
   ]
  },
  {
   "cell_type": "markdown",
   "metadata": {},
   "source": [
    "## 2D vector field"
   ]
  },
  {
   "cell_type": "code",
   "execution_count": null,
   "metadata": {},
   "outputs": [],
   "source": [
    "#import plotly.plotly as py\n",
    "import plotly.figure_factory as ff\n",
    "\n",
    "import numpy as np\n",
    "\n",
    "x = np.linspace(-3, 3, 100)\n",
    "y = np.linspace(-3, 3, 100)\n",
    "Y, X = np.meshgrid(x, y)\n",
    "u = -1 - X**2 + Y\n",
    "v = 1 + X - Y**2\n",
    "\n",
    "# Create streamline figure\n",
    "fig = ff.create_streamline(x, y, u, v, arrow_scale=.1)\n",
    "#py.iplot(fig, filename='Streamline Plot Example')\n",
    "fig.show()"
   ]
  },
  {
   "cell_type": "markdown",
   "metadata": {},
   "source": [
    "# 3D"
   ]
  },
  {
   "cell_type": "code",
   "execution_count": null,
   "metadata": {},
   "outputs": [],
   "source": [
    "px.scatter_3d(x = [1,2,3], y=[4,5,6], z=[3,4,5], title=\"Pontos\")"
   ]
  },
  {
   "cell_type": "code",
   "execution_count": null,
   "metadata": {},
   "outputs": [],
   "source": [
    "fig = go.Figure()\n",
    "fig.add_scatter3d(x = [1,2,3], y=[4,5,6], z=[3,4,5], mode='markers')\n",
    "\n",
    "fig.update_layout(\n",
    "    scene = dict(\n",
    "        xaxis = dict(range=[-5,10]),\n",
    "                     yaxis = dict(range=[-5,10]),\n",
    "                     zaxis = dict(range=[-5,10])),\n",
    "    margin=dict(r=20, l=10, b=10, t=10))"
   ]
  },
  {
   "cell_type": "code",
   "execution_count": null,
   "metadata": {},
   "outputs": [],
   "source": [
    "fig = go.Figure()\n",
    "fig.add_scatter3d(x = [1,2,3], y=[4,5,6], z=[3,4,5], mode='markers+lines', marker_size = 3)\n",
    "\n",
    "fig.update_layout(title = 'Pontos',\n",
    "    scene = dict(\n",
    "        xaxis = dict(range=[-5,10], title = 'eixo x'),\n",
    "                     yaxis = dict(range=[-5,10]),\n",
    "                     zaxis = dict(range=[-5,10])),\n",
    "    margin=dict(r=20, l=10, b=10, t=30))"
   ]
  },
  {
   "cell_type": "code",
   "execution_count": null,
   "metadata": {},
   "outputs": [],
   "source": [
    "t = np.linspace(0,8*np.pi, 300)\n",
    "x = np.cos(t)\n",
    "y = np.sin(t)\n",
    "z = t\n",
    "fig = px.line_3d(x =x, y=y, z=z)\n",
    "fig.show()"
   ]
  },
  {
   "cell_type": "code",
   "execution_count": null,
   "metadata": {},
   "outputs": [],
   "source": [
    "t = np.linspace(0,8*np.pi, 300)\n",
    "x = np.cos(t)\n",
    "y = np.sin(t)\n",
    "z = t\n",
    "fig = go.Figure()\n",
    "fig.add_scatter3d(x =x, y=y, z=z, line_width = 5, mode = 'lines')\n",
    "fig.show()"
   ]
  },
  {
   "cell_type": "markdown",
   "metadata": {},
   "source": [
    "A parte superior de uma esfera de raio 1 é dada por $x^2 + y^2 + z^2 = 1 \\rightarrow z = +\\sqrt{1-x^2 -y^2} $ "
   ]
  },
  {
   "cell_type": "code",
   "execution_count": null,
   "metadata": {
    "scrolled": true
   },
   "outputs": [],
   "source": [
    "xx, yy = np.mgrid[-1:1:100j, -1:1:100j]\n",
    "zz = np.sqrt(1- xx**2 - yy**2)\n",
    "fig = go.Figure()\n",
    "fig.add_surface(x = xx, y = yy, z = zz)\n",
    "fig.update_layout(scene_aspectmode='data') #scene_aspectmode='cube'\n",
    "fig.show()"
   ]
  },
  {
   "cell_type": "markdown",
   "metadata": {},
   "source": [
    "Um \"Mesh Grid\" pode ser ilustrado na seguinte forma\n",
    "\n",
    "![mesh grid](images/meshgrid.jpg)"
   ]
  },
  {
   "cell_type": "markdown",
   "metadata": {},
   "source": [
    "O problema na borda do grafio acima é por causa do sistema de coordenandas. Para resolver isso temos que reescrever a equação no sistema de coordenandas esfericas. Vamos estudar esse sistema nas proximas aulas. Nesse caro a equação de esfera fica $r = 1, 0< \\phi <2\\pi, -2\\pi < \\theta < 2\\pi$.\n",
    "\n",
    "$$\n",
    "\\begin{cases}\n",
    "x = 1 \\sin(\\phi) \\cos(\\theta) \\\\\n",
    "y = 1 \\sin(\\phi) \\sin(\\theta) \\\\\n",
    "z = 1 \\cos(\\phi)\n",
    "\\end{cases}\n",
    "$$\n",
    "\n"
   ]
  },
  {
   "cell_type": "code",
   "execution_count": null,
   "metadata": {
    "scrolled": true
   },
   "outputs": [],
   "source": [
    "theta = np.linspace(-2*np.pi,2*np.pi,50)\n",
    "phi = np.linspace(0,np.pi/2,50)\n",
    "\n",
    "t, p = np.meshgrid(theta, phi)\n",
    "\n",
    "xx = np.sin(p)*np.cos(t)\n",
    "yy = np.sin(p)*np.sin(t)\n",
    "zz = np.cos(p)\n",
    "\n",
    "fig = go.Figure()\n",
    "fig.add_surface(x = xx, y = yy, z = zz)"
   ]
  },
  {
   "cell_type": "markdown",
   "metadata": {},
   "source": [
    "## Vetores"
   ]
  },
  {
   "cell_type": "markdown",
   "metadata": {},
   "source": [
    "O plotly não um comando para plotar um vetor na forma comum, ele usa `cone` para representar um vetor."
   ]
  },
  {
   "cell_type": "code",
   "execution_count": null,
   "metadata": {},
   "outputs": [],
   "source": [
    "fig = go.Figure()\n",
    "fig.add_cone(x=[1], y=[1], z=[1], u=[1], v=[1], w=[0])"
   ]
  },
  {
   "cell_type": "markdown",
   "metadata": {},
   "source": [
    "## 3D vector field"
   ]
  },
  {
   "cell_type": "code",
   "execution_count": null,
   "metadata": {},
   "outputs": [],
   "source": [
    "x, y, z = np.meshgrid(np.arange(-0.8, 1, 0.2),\n",
    "                      np.arange(-0.8, 1, 0.2),\n",
    "                      np.arange(-0.8, 1, 0.8))\n",
    "\n",
    "\n",
    "u = np.sin(np.pi * x) * np.cos(np.pi * y) * np.cos(np.pi * z)\n",
    "v = -np.cos(np.pi * x) * np.sin(np.pi * y) * np.cos(np.pi * z)\n",
    "w = (np.sqrt(2.0 / 3.0) * np.cos(np.pi * x) * np.cos(np.pi * y) *\n",
    "     np.sin(np.pi * z))"
   ]
  },
  {
   "cell_type": "code",
   "execution_count": null,
   "metadata": {},
   "outputs": [],
   "source": [
    "def flatten_vf(x, y, z, u, v, w):\n",
    "    return x.flatten(), y.flatten(), z.flatten(), u.flatten(), v.flatten(), w.flatten()"
   ]
  },
  {
   "cell_type": "code",
   "execution_count": null,
   "metadata": {},
   "outputs": [],
   "source": [
    "x, y, z, u, v, w=flatten_vf(x,y,z,u,v,w)"
   ]
  },
  {
   "cell_type": "code",
   "execution_count": null,
   "metadata": {},
   "outputs": [],
   "source": [
    "fig = go.Figure()\n",
    "fig.add_cone(x= x,y = y,z = z,u = u,v = v,w = w, colorscale='Blues',\n",
    "    #sizemode=\"absolute\", \n",
    "    sizemode='scaled')\n",
    "    #,sizeref=4)\n",
    "#fig.update_layout(scene=dict(aspectratio=dict(x=1, y=1, z=0.8),\n",
    "#                             camera_eye=dict(x=1.2, y=1.2, z=0.6)))\n"
   ]
  },
  {
   "cell_type": "markdown",
   "metadata": {},
   "source": [
    "Um campo vetorial com distribuição aleatoria de vetores. "
   ]
  },
  {
   "cell_type": "code",
   "execution_count": null,
   "metadata": {},
   "outputs": [],
   "source": [
    "x, y, z = np.meshgrid(np.random.uniform(-0.8,1,10),\n",
    "                      np.random.uniform(-0.8,1,10),\n",
    "                      np.random.uniform(-0.8,1,10))\n",
    "\n",
    "#x,y,z = np.mgrid[-2:2:10j,-2:2:10j,-2:2:10j]\n",
    "\n",
    "\n",
    "\n",
    "u = np.sin(np.pi * x) * np.cos(np.pi * y) * np.cos(np.pi * z)\n",
    "v = -np.cos(np.pi * x) * np.sin(np.pi * y) * np.cos(np.pi * z)\n",
    "w = (np.sqrt(2.0 / 3.0) * np.cos(np.pi * x) * np.cos(np.pi * y) *\n",
    "     np.sin(np.pi * z))"
   ]
  },
  {
   "cell_type": "code",
   "execution_count": null,
   "metadata": {},
   "outputs": [],
   "source": [
    "x, y, z, u, v, w=flatten_vf(x,y,z,u,v,w)"
   ]
  },
  {
   "cell_type": "code",
   "execution_count": null,
   "metadata": {
    "scrolled": true
   },
   "outputs": [],
   "source": [
    "fig = go.Figure()\n",
    "fig.add_cone(x= x,y = y,z = z,u = u,v = v,w = w, colorscale='Blues',\n",
    "    sizemode=\"scaled\", sizeref = 6)\n",
    "    #,sizemode='absolute')"
   ]
  },
  {
   "cell_type": "markdown",
   "metadata": {},
   "source": [
    "## Contour surface"
   ]
  },
  {
   "cell_type": "code",
   "execution_count": null,
   "metadata": {},
   "outputs": [],
   "source": [
    "import plotly.graph_objects as go\n",
    "import numpy as np\n",
    "\n",
    "X, Y, Z = np.mgrid[-5:5:40j, -5:5:40j, -5:5:40j]\n",
    "\n",
    "# ellipsoid\n",
    "#values = X * X * 0.5 + Y * Y + Z * Z * 2\n",
    "values = X * X + Y * Y + Z * Z \n",
    "\n",
    "fig = go.Figure(data=go.Isosurface(\n",
    "    x=X.flatten(),\n",
    "    y=Y.flatten(),\n",
    "    z=Z.flatten(),\n",
    "    value=values.flatten(),\n",
    "    isomin=10,\n",
    "    isomax=50,\n",
    "    surface_count=5, # number of isosurfaces, 2 by default: only min and max\n",
    "    colorbar_nticks=5, # colorbar ticks correspond to isosurface values\n",
    "    caps=dict(x_show=False, y_show=False)\n",
    "    ))\n",
    "fig.show()"
   ]
  },
  {
   "cell_type": "markdown",
   "metadata": {},
   "source": [
    "Two plane intersection"
   ]
  },
  {
   "cell_type": "code",
   "execution_count": null,
   "metadata": {
    "scrolled": true
   },
   "outputs": [],
   "source": [
    "import plotly.graph_objects as go\n",
    "import numpy as np\n",
    "from sympy import *\n",
    "\n",
    "fig = go.Figure()\n",
    "\n",
    "# plane x=1\n",
    "yy ,zz = np.mgrid[-5:5:50j, -7:7:50j]\n",
    "xx = np.ones(yy.shape)\n",
    "fig.add_surface(z=zz, x=xx, y=yy, colorscale='Blues', showscale=True)\n",
    "\n",
    "#plane y=-2\n",
    "xx ,zz = np.mgrid[-5:5:50j, -7:7:50j]\n",
    "yy = -2 * np.ones(xx.shape)\n",
    "fig.add_surface(z=zz, x=xx, y=yy, colorscale='Viridis', showscale=False)\n",
    "#fig.Figure(data=[go.Surface(z=z, x=x, y=y)])\n",
    "\n",
    "\n",
    "fig.update_layout(title='Intersection', autosize=True,\n",
    "                  width=500, height=500,\n",
    "                  margin=dict(l=65, r=50, b=65, t=90))\n",
    "\n",
    "fig.show()"
   ]
  },
  {
   "cell_type": "markdown",
   "metadata": {},
   "source": [
    "This is the list of Plotly colorscales:\n",
    "[‘Blackbody’,\n",
    "‘Bluered’,\n",
    "‘Blues’,\n",
    "‘Earth’,\n",
    "‘Electric’,\n",
    "‘Greens’,\n",
    "‘Greys’,\n",
    "‘Hot’,\n",
    "‘Jet’,\n",
    "‘Picnic’,\n",
    "‘Portland’,\n",
    "‘Rainbow’,\n",
    "‘RdBu’,\n",
    "‘Reds’,\n",
    "‘Viridis’,\n",
    "‘YlGnBu’,\n",
    "‘YlOrRd’]"
   ]
  },
  {
   "cell_type": "markdown",
   "metadata": {},
   "source": [
    "Para visualizar uma imagem primeiro, temos que abrir ela usando outro pacote, tais como PIL, Opencv, scikit-image e depois usar o Plotly. "
   ]
  },
  {
   "cell_type": "code",
   "execution_count": null,
   "metadata": {},
   "outputs": [],
   "source": [
    "img = Image.open(\"./images/uerj.jpg\")\n",
    "fig = px.imshow(img)\n",
    "fig.show()"
   ]
  },
  {
   "cell_type": "code",
   "execution_count": null,
   "metadata": {
    "scrolled": true
   },
   "outputs": [],
   "source": []
  },
  {
   "cell_type": "code",
   "execution_count": null,
   "metadata": {},
   "outputs": [],
   "source": []
  }
 ],
 "metadata": {
  "kernelspec": {
   "display_name": "Python 3",
   "language": "python",
   "name": "python3"
  },
  "language_info": {
   "codemirror_mode": {
    "name": "ipython",
    "version": 3
   },
   "file_extension": ".py",
   "mimetype": "text/x-python",
   "name": "python",
   "nbconvert_exporter": "python",
   "pygments_lexer": "ipython3",
   "version": "3.7.8"
  },
  "toc": {
   "base_numbering": 1,
   "nav_menu": {},
   "number_sections": true,
   "sideBar": true,
   "skip_h1_title": false,
   "title_cell": "Table of Contents",
   "title_sidebar": "Contents",
   "toc_cell": false,
   "toc_position": {},
   "toc_section_display": true,
   "toc_window_display": false
  },
  "varInspector": {
   "cols": {
    "lenName": 16,
    "lenType": 16,
    "lenVar": 40
   },
   "kernels_config": {
    "python": {
     "delete_cmd_postfix": "",
     "delete_cmd_prefix": "del ",
     "library": "var_list.py",
     "varRefreshCmd": "print(var_dic_list())"
    },
    "r": {
     "delete_cmd_postfix": ") ",
     "delete_cmd_prefix": "rm(",
     "library": "var_list.r",
     "varRefreshCmd": "cat(var_dic_list()) "
    }
   },
   "types_to_exclude": [
    "module",
    "function",
    "builtin_function_or_method",
    "instance",
    "_Feature"
   ],
   "window_display": false
  }
 },
 "nbformat": 4,
 "nbformat_minor": 4
}
