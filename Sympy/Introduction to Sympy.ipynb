{
 "cells": [
  {
   "cell_type": "markdown",
   "metadata": {
    "colab_type": "text",
    "id": "1zDvq6D25rye"
   },
   "source": [
    "# Sympy"
   ]
  },
  {
   "cell_type": "markdown",
   "metadata": {},
   "source": [
    "This note was prepared by Renan based on the video lecture at [SymPy (Symbolic Expressions on Python) in one video](https://youtu.be/kx2GzBeGPco)"
   ]
  },
  {
   "cell_type": "code",
   "execution_count": 0,
   "metadata": {
    "colab": {},
    "colab_type": "code",
    "id": "ppUreVkx55XS"
   },
   "outputs": [],
   "source": [
    "from sympy import *\n",
    "import numpy as np\n",
    "import matplotlib.pyplot as plt "
   ]
  },
  {
   "cell_type": "code",
   "execution_count": 0,
   "metadata": {
    "colab": {},
    "colab_type": "code",
    "id": "jlFh_eEp6Z5B"
   },
   "outputs": [],
   "source": [
    "x= symbols('x')"
   ]
  },
  {
   "cell_type": "code",
   "execution_count": 0,
   "metadata": {
    "colab": {
     "base_uri": "https://localhost:8080/",
     "height": 34
    },
    "colab_type": "code",
    "id": "R__NLxy86vOk",
    "outputId": "d6748257-dba0-4223-c74e-a80c20851aae"
   },
   "outputs": [
    {
     "data": {
      "text/plain": [
       "(x**2 + 1)/(x - 1)"
      ]
     },
     "execution_count": 5,
     "metadata": {
      "tags": []
     },
     "output_type": "execute_result"
    }
   ],
   "source": [
    "f= (x**2+1)/(x-1)\n",
    "f"
   ]
  },
  {
   "cell_type": "markdown",
   "metadata": {
    "colab_type": "text",
    "id": "smTjHqYk7Fq8"
   },
   "source": [
    "### Substituição"
   ]
  },
  {
   "cell_type": "code",
   "execution_count": 0,
   "metadata": {
    "colab": {
     "base_uri": "https://localhost:8080/",
     "height": 34
    },
    "colab_type": "code",
    "id": "lnwgz89v7ORS",
    "outputId": "0418f5a3-5e94-4b61-f4f5-e3614a7cb0e9"
   },
   "outputs": [
    {
     "data": {
      "text/plain": [
       "zoo"
      ]
     },
     "execution_count": 6,
     "metadata": {
      "tags": []
     },
     "output_type": "execute_result"
    }
   ],
   "source": [
    "f.subs(x,1) #O output quer dizer infinito"
   ]
  },
  {
   "cell_type": "code",
   "execution_count": 0,
   "metadata": {
    "colab": {
     "base_uri": "https://localhost:8080/",
     "height": 34
    },
    "colab_type": "code",
    "id": "4eFQEUsH7rjg",
    "outputId": "09568b22-f1a7-4b6a-d424-2fc9adba00cd"
   },
   "outputs": [
    {
     "data": {
      "text/plain": [
       "sqrt(2)"
      ]
     },
     "execution_count": 7,
     "metadata": {
      "tags": []
     },
     "output_type": "execute_result"
    }
   ],
   "source": [
    "sqrt(2)"
   ]
  },
  {
   "cell_type": "code",
   "execution_count": 0,
   "metadata": {
    "colab": {
     "base_uri": "https://localhost:8080/",
     "height": 34
    },
    "colab_type": "code",
    "id": "GaZNg68G7yRy",
    "outputId": "43d7f9a8-e428-4e12-df20-eb81b79b93a0"
   },
   "outputs": [
    {
     "data": {
      "text/plain": [
       "1.41421356237310"
      ]
     },
     "execution_count": 8,
     "metadata": {
      "tags": []
     },
     "output_type": "execute_result"
    }
   ],
   "source": [
    "N(sqrt(2))"
   ]
  },
  {
   "cell_type": "markdown",
   "metadata": {
    "colab_type": "text",
    "id": "5-3MokN09xjH"
   },
   "source": [
    "## Usando funções em gráfico"
   ]
  },
  {
   "cell_type": "code",
   "execution_count": 0,
   "metadata": {
    "colab": {
     "base_uri": "https://localhost:8080/",
     "height": 312
    },
    "colab_type": "code",
    "id": "j17a7UMf717Y",
    "outputId": "bf3e29a4-c8a9-40b8-ca56-e5f39d7d4696"
   },
   "outputs": [
    {
     "data": {
      "text/plain": [
       "Text(0.5, 1.0, 'Função seno(x)')"
      ]
     },
     "execution_count": 17,
     "metadata": {
      "tags": []
     },
     "output_type": "execute_result"
    },
    {
     "data": {
      "image/png": "[encoded data removed]",
      "text/plain": [
       "<Figure size 432x288 with 1 Axes>"
      ]
     },
     "metadata": {
      "tags": []
     },
     "output_type": "display_data"
    }
   ],
   "source": [
    "f=sin(x)\n",
    "fx=lambdify(x,f)\n",
    "xvals=np.linspace(-1*np.pi,np.pi,100)\n",
    "plt.plot(xvals,fx(xvals))\n",
    "plt.xlabel('X')\n",
    "plt.ylabel('seno(X)')\n",
    "plt.title('Função seno(x)')"
   ]
  },
  {
   "cell_type": "code",
   "execution_count": 0,
   "metadata": {
    "colab": {
     "base_uri": "https://localhost:8080/",
     "height": 68
    },
    "colab_type": "code",
    "id": "CCl7nj-w-aUI",
    "outputId": "6e8195e7-2515-4749-af17-2cbf53928f56"
   },
   "outputs": [
    {
     "name": "stdout",
     "output_type": "stream",
     "text": [
      "3\n",
      "2\n",
      "0.980000000000000\n"
     ]
    }
   ],
   "source": [
    "print(ceiling(2.5)) #Sempre arredonda pra cima\n",
    "print(floor(2.5)) #Sempre pra baixo\n",
    "print(frac(2.98)) #Pega o decimal"
   ]
  },
  {
   "cell_type": "code",
   "execution_count": 0,
   "metadata": {
    "colab": {
     "base_uri": "https://localhost:8080/",
     "height": 312
    },
    "colab_type": "code",
    "id": "SrT8SNBxBfaV",
    "outputId": "be68dd0e-89ab-4bbd-e52b-d95ab45ca267"
   },
   "outputs": [
    {
     "data": {
      "text/plain": [
       "<matplotlib.legend.Legend at 0x7fbfc14c57b8>"
      ]
     },
     "execution_count": 31,
     "metadata": {
      "tags": []
     },
     "output_type": "execute_result"
    },
    {
     "data": {
      "image/png": "[encoded data removed]",
      "text/plain": [
       "<Figure size 432x288 with 1 Axes>"
      ]
     },
     "metadata": {
      "tags": []
     },
     "output_type": "display_data"
    }
   ],
   "source": [
    "f=exp(x)\n",
    "g=log(x)\n",
    "fx=lambdify(x,f)\n",
    "gx=lambdify(x,g)\n",
    "xvals=np.linspace(5,10,100)\n",
    "plt.plot(xvals,fx(xvals),label='exp(x)')\n",
    "plt.plot(xvals,gx(xvals),label='log(x)')\n",
    "plt.xlabel('X')\n",
    "plt.title('exp vs log')\n",
    "plt.legend()"
   ]
  },
  {
   "cell_type": "code",
   "execution_count": 0,
   "metadata": {
    "colab": {
     "base_uri": "https://localhost:8080/",
     "height": 119
    },
    "colab_type": "code",
    "id": "SJX0nS78DVsT",
    "outputId": "d44f6f27-58ee-438e-a1bd-22b6ce648fbf"
   },
   "outputs": [
    {
     "name": "stdout",
     "output_type": "stream",
     "text": [
      "⌠          \n",
      "⎮  2       \n",
      "⎮ x  + 1   \n",
      "⎮ ────── dx\n",
      "⎮ x - 1    \n",
      "⌡          \n"
     ]
    }
   ],
   "source": [
    "pprint(Integral((x**2+1)/(x-1))) #Imprima bonito qualquer coisa!"
   ]
  },
  {
   "cell_type": "code",
   "execution_count": 0,
   "metadata": {
    "colab": {
     "base_uri": "https://localhost:8080/",
     "height": 102
    },
    "colab_type": "code",
    "id": "3rcSlJxX2zCz",
    "outputId": "8ad9003a-116b-4021-f882-be9caf012985"
   },
   "outputs": [
    {
     "name": "stdout",
     "output_type": "stream",
     "text": [
      "⎡1  1  1 ⎤\n",
      "⎢        ⎥\n",
      "⎢1  1  2 ⎥\n",
      "⎢        ⎥\n",
      "⎣2  1  -1⎦\n"
     ]
    }
   ],
   "source": [
    "matriz= Matrix(((1,1,1),(1,1,2),(2,1,-1)))\n",
    "pprint(matriz)"
   ]
  },
  {
   "cell_type": "markdown",
   "metadata": {
    "colab_type": "text",
    "id": "koPGk7skFtjK"
   },
   "source": [
    "# Simplificação"
   ]
  },
  {
   "cell_type": "code",
   "execution_count": 0,
   "metadata": {
    "colab": {
     "base_uri": "https://localhost:8080/",
     "height": 34
    },
    "colab_type": "code",
    "id": "jJBcHTsTF0n6",
    "outputId": "8156f0fd-ac62-4cb5-80d1-cc033eaf27f6"
   },
   "outputs": [
    {
     "data": {
      "text/plain": [
       "sin(x)**2 + cos(x)**2"
      ]
     },
     "execution_count": 3,
     "metadata": {
      "tags": []
     },
     "output_type": "execute_result"
    }
   ],
   "source": [
    "f=sin(x)**2+cos(x)**2\n",
    "f"
   ]
  },
  {
   "cell_type": "code",
   "execution_count": 0,
   "metadata": {
    "colab": {
     "base_uri": "https://localhost:8080/",
     "height": 34
    },
    "colab_type": "code",
    "id": "buYeNp6wF8Rv",
    "outputId": "857ed4d9-3189-433f-e46f-814815e42e29"
   },
   "outputs": [
    {
     "data": {
      "text/plain": [
       "1"
      ]
     },
     "execution_count": 45,
     "metadata": {
      "tags": []
     },
     "output_type": "execute_result"
    }
   ],
   "source": [
    "f.simplify()"
   ]
  },
  {
   "cell_type": "code",
   "execution_count": 0,
   "metadata": {
    "colab": {
     "base_uri": "https://localhost:8080/",
     "height": 34
    },
    "colab_type": "code",
    "id": "RtlbCz8a-dZa",
    "outputId": "1c1d3b65-0a26-4185-9bb0-fc5ee2b541bc"
   },
   "outputs": [
    {
     "data": {
      "text/plain": [
       "1"
      ]
     },
     "execution_count": 4,
     "metadata": {
      "tags": []
     },
     "output_type": "execute_result"
    }
   ],
   "source": [
    "f.trigsimp() #Mesma coisa mas focada mais em trigonométricas."
   ]
  },
  {
   "cell_type": "code",
   "execution_count": 0,
   "metadata": {
    "colab": {
     "base_uri": "https://localhost:8080/",
     "height": 51
    },
    "colab_type": "code",
    "id": "g3MbI_KmG4zl",
    "outputId": "4f252de8-8774-448d-bfde-be6ffeaaa7cd"
   },
   "outputs": [
    {
     "name": "stdout",
     "output_type": "stream",
     "text": [
      " 3    2        \n",
      "x  - x  + x - 1\n"
     ]
    }
   ],
   "source": [
    "f= x**3-x**2+x-1\n",
    "pprint(f.simplify())"
   ]
  },
  {
   "cell_type": "code",
   "execution_count": 0,
   "metadata": {
    "colab": {
     "base_uri": "https://localhost:8080/",
     "height": 51
    },
    "colab_type": "code",
    "id": "kEjbcJs5HYg2",
    "outputId": "40adba1e-d0c5-438f-93e2-c4fc6bf59be6"
   },
   "outputs": [
    {
     "name": "stdout",
     "output_type": "stream",
     "text": [
      "        ⎛ 2    ⎞\n",
      "(x - 1)⋅⎝x  + 1⎠\n"
     ]
    }
   ],
   "source": [
    "pprint(f.factor())"
   ]
  },
  {
   "cell_type": "code",
   "execution_count": 0,
   "metadata": {
    "colab": {
     "base_uri": "https://localhost:8080/",
     "height": 51
    },
    "colab_type": "code",
    "id": "-E2sCPBCKug2",
    "outputId": "a84b9be7-f64c-4761-ad29-dc89ac1906f7"
   },
   "outputs": [
    {
     "name": "stdout",
     "output_type": "stream",
     "text": [
      " 2                    \n",
      "x ⋅(a + b) + x⋅(a - b)\n"
     ]
    }
   ],
   "source": [
    "a=symbols('a')\n",
    "b=symbols('b')\n",
    "pprint(collect(a*x**2+b*x**2+a*x-b*x,x)) #Evidência"
   ]
  },
  {
   "cell_type": "code",
   "execution_count": 0,
   "metadata": {
    "colab": {
     "base_uri": "https://localhost:8080/",
     "height": 34
    },
    "colab_type": "code",
    "id": "YYumnjrTK5U5",
    "outputId": "d4443a14-1bf5-4dce-e0c9-ae893ac9a1f3"
   },
   "outputs": [
    {
     "data": {
      "text/plain": [
       "x"
      ]
     },
     "execution_count": 65,
     "metadata": {
      "tags": []
     },
     "output_type": "execute_result"
    }
   ],
   "source": [
    "cancel(x**2/x) #Comando mais dedicado a cancelar num e den. Simplify da no mesmo."
   ]
  },
  {
   "cell_type": "markdown",
   "metadata": {
    "colab_type": "text",
    "id": "pqg2BzoQBCr7"
   },
   "source": [
    "### Potências e logs"
   ]
  },
  {
   "cell_type": "code",
   "execution_count": 0,
   "metadata": {
    "colab": {
     "base_uri": "https://localhost:8080/",
     "height": 34
    },
    "colab_type": "code",
    "id": "iJqEVbmaBBaY",
    "outputId": "c3c23a57-26ac-45bd-85c3-bc8406dba0b6"
   },
   "outputs": [
    {
     "data": {
      "text/plain": [
       "x**(a + b)"
      ]
     },
     "execution_count": 11,
     "metadata": {
      "tags": []
     },
     "output_type": "execute_result"
    }
   ],
   "source": [
    "powsimp(x**a*x**b,)"
   ]
  },
  {
   "cell_type": "code",
   "execution_count": 0,
   "metadata": {
    "colab": {
     "base_uri": "https://localhost:8080/",
     "height": 34
    },
    "colab_type": "code",
    "id": "1CwSiqMgCFY7",
    "outputId": "9cb6fba5-5c17-432f-8815-63433253a9b1"
   },
   "outputs": [
    {
     "data": {
      "text/plain": [
       "log(x**a)"
      ]
     },
     "execution_count": 12,
     "metadata": {
      "tags": []
     },
     "output_type": "execute_result"
    }
   ],
   "source": [
    "logcombine(a*log(x),force=True) #Argumento force em todos pode dar problemas quando mistura com\n",
    "                                #números imaginários, cuidado se isso existir."
   ]
  },
  {
   "cell_type": "markdown",
   "metadata": {
    "colab_type": "text",
    "id": "1Sr8gqtCGgqP"
   },
   "source": [
    "# Expansão"
   ]
  },
  {
   "cell_type": "code",
   "execution_count": 0,
   "metadata": {
    "colab": {
     "base_uri": "https://localhost:8080/",
     "height": 34
    },
    "colab_type": "code",
    "id": "aEDftIeeGoHX",
    "outputId": "7f5856ed-078a-43fd-c9c6-b6d03f3c8f4c"
   },
   "outputs": [
    {
     "data": {
      "text/plain": [
       "x**2 + 4*x + 4"
      ]
     },
     "execution_count": 5,
     "metadata": {
      "tags": []
     },
     "output_type": "execute_result"
    }
   ],
   "source": [
    "f=(x+2)**2\n",
    "f.expand()"
   ]
  },
  {
   "cell_type": "code",
   "execution_count": 0,
   "metadata": {
    "colab": {
     "base_uri": "https://localhost:8080/",
     "height": 51
    },
    "colab_type": "code",
    "id": "ybh7T-y3_eDb",
    "outputId": "3623c5e7-4149-403b-9354-5b9a7d5ea9f9"
   },
   "outputs": [
    {
     "name": "stdout",
     "output_type": "stream",
     "text": [
      "sin(a + x)\n",
      "sin(a)⋅cos(x) + sin(x)⋅cos(a)\n"
     ]
    }
   ],
   "source": [
    "f= sin(x+a)         #Veja que aqui deu diferença, ele serve para\n",
    "pprint(f.expand())  #trigonométricas e só funciona antes do objeto\n",
    "pprint(expand_trig(f)) #<---"
   ]
  },
  {
   "cell_type": "code",
   "execution_count": 0,
   "metadata": {
    "colab": {
     "base_uri": "https://localhost:8080/",
     "height": 34
    },
    "colab_type": "code",
    "id": "gqKiOZlGMFxJ",
    "outputId": "8d2ff125-2e82-40ed-f48f-892c9b04206c"
   },
   "outputs": [
    {
     "data": {
      "text/plain": [
       "1 + 1/x"
      ]
     },
     "execution_count": 66,
     "metadata": {
      "tags": []
     },
     "output_type": "execute_result"
    }
   ],
   "source": [
    "apart((x+1)/x)"
   ]
  },
  {
   "cell_type": "code",
   "execution_count": 0,
   "metadata": {
    "colab": {
     "base_uri": "https://localhost:8080/",
     "height": 85
    },
    "colab_type": "code",
    "id": "A_8fdftyMMkL",
    "outputId": "2f2ca4fd-9e68-45b5-e15c-4eca5833aecb"
   },
   "outputs": [
    {
     "name": "stdout",
     "output_type": "stream",
     "text": [
      " 2⋅x - 1       1     3\n",
      "────────── - ───── + ─\n",
      " 2           x + 4   x\n",
      "x  + x + 1            \n"
     ]
    }
   ],
   "source": [
    "#A famosa decomposição de frações parciais, boa pra integrar depois, lembra?\n",
    "f=(4*x**3+21*x**2+10*x+12)/(x**4+5*x**3+5*x**2+4*x)\n",
    "pprint(f.apart())"
   ]
  },
  {
   "cell_type": "markdown",
   "metadata": {
    "colab_type": "text",
    "id": "Z776CsL3CqeB"
   },
   "source": [
    "### Potências e logs"
   ]
  },
  {
   "cell_type": "code",
   "execution_count": 0,
   "metadata": {
    "colab": {
     "base_uri": "https://localhost:8080/",
     "height": 51
    },
    "colab_type": "code",
    "id": "nXfQaJXECsSF",
    "outputId": "715e7380-f37a-4fe0-983b-c0bfbab3d056"
   },
   "outputs": [
    {
     "name": "stdout",
     "output_type": "stream",
     "text": [
      " a  b\n",
      "x ⋅x \n"
     ]
    }
   ],
   "source": [
    "pprint(expand_power_exp(x**(a+b)))"
   ]
  },
  {
   "cell_type": "code",
   "execution_count": 0,
   "metadata": {
    "colab": {
     "base_uri": "https://localhost:8080/",
     "height": 34
    },
    "colab_type": "code",
    "id": "o3dmPvdpDDvk",
    "outputId": "8873f56b-b2ec-42a8-d3a7-d98970fe2118"
   },
   "outputs": [
    {
     "data": {
      "text/plain": [
       "2*log(x)"
      ]
     },
     "execution_count": 17,
     "metadata": {
      "tags": []
     },
     "output_type": "execute_result"
    }
   ],
   "source": [
    "expand_log(log(x**2),force=True)"
   ]
  },
  {
   "cell_type": "code",
   "execution_count": 0,
   "metadata": {
    "colab": {
     "base_uri": "https://localhost:8080/",
     "height": 68
    },
    "colab_type": "code",
    "id": "CN1jc6lwEGkr",
    "outputId": "7b209388-27b1-44ce-8f60-9e20e2b0129a"
   },
   "outputs": [
    {
     "name": "stdout",
     "output_type": "stream",
     "text": [
      "⎛a⎞\n",
      "⎜ ⎟\n",
      "⎝x⎠\n"
     ]
    }
   ],
   "source": [
    "f=binomial(a,x)\n",
    "pprint(f)"
   ]
  },
  {
   "cell_type": "code",
   "execution_count": 0,
   "metadata": {
    "colab": {
     "base_uri": "https://localhost:8080/",
     "height": 34
    },
    "colab_type": "code",
    "id": "mJdZrQGKEYdq",
    "outputId": "f01af24a-e765-424a-e279-144382ab3294"
   },
   "outputs": [
    {
     "name": "stdout",
     "output_type": "stream",
     "text": [
      "1\n"
     ]
    }
   ],
   "source": [
    "pprint(f.subs(a,2).subs(x,2)) #para substituir os dois valores"
   ]
  },
  {
   "cell_type": "markdown",
   "metadata": {
    "colab_type": "text",
    "id": "IjH3btPMGQRt"
   },
   "source": [
    "# Cálculo"
   ]
  },
  {
   "cell_type": "markdown",
   "metadata": {
    "colab_type": "text",
    "id": "w5BIslUodtJE"
   },
   "source": [
    "### Derivadas"
   ]
  },
  {
   "cell_type": "code",
   "execution_count": 0,
   "metadata": {
    "colab": {
     "base_uri": "https://localhost:8080/",
     "height": 51
    },
    "colab_type": "code",
    "id": "xsLduUmPGSgQ",
    "outputId": "d0de9b52-31e7-441d-f037-17659b9d3ad8"
   },
   "outputs": [
    {
     "name": "stdout",
     "output_type": "stream",
     "text": [
      "-sin(x)\n"
     ]
    },
    {
     "data": {
      "text/plain": [
       "-cos(x)"
      ]
     },
     "execution_count": 22,
     "metadata": {
      "tags": []
     },
     "output_type": "execute_result"
    }
   ],
   "source": [
    "f=cos(x)\n",
    "df=diff(f,x)\n",
    "print(df)\n",
    "ddf=diff(df,x)\n",
    "ddf"
   ]
  },
  {
   "cell_type": "code",
   "execution_count": 0,
   "metadata": {
    "colab": {
     "base_uri": "https://localhost:8080/",
     "height": 34
    },
    "colab_type": "code",
    "id": "ItGxLcYdbzCv",
    "outputId": "60d0797d-53f9-4779-ed43-02812032fe10"
   },
   "outputs": [
    {
     "data": {
      "text/plain": [
       "-cos(x)"
      ]
     },
     "execution_count": 7,
     "metadata": {
      "tags": []
     },
     "output_type": "execute_result"
    }
   ],
   "source": [
    "diff(f,x,2) #Número de derivadas, deu o mesmo.\n",
    "            #Apenas mude o símbolo para derivar em outra variável."
   ]
  },
  {
   "cell_type": "code",
   "execution_count": 0,
   "metadata": {
    "colab": {
     "base_uri": "https://localhost:8080/",
     "height": 34
    },
    "colab_type": "code",
    "id": "9blhUq1Lc4Ct",
    "outputId": "0a2bafdf-35f2-471d-9087-09ffb9edff3d"
   },
   "outputs": [
    {
     "data": {
      "text/plain": [
       "2*(4*x + 1)"
      ]
     },
     "execution_count": 9,
     "metadata": {
      "tags": []
     },
     "output_type": "execute_result"
    }
   ],
   "source": [
    "f= 2*x*a + 4*x**2*a #Aqui derivando em x e depois em a. Ou vice e versa\n",
    "diff(f,x,a)         #porque a propriedade diz que começar em um ou outro da no mesmo."
   ]
  },
  {
   "cell_type": "markdown",
   "metadata": {
    "colab_type": "text",
    "id": "LcEc4Qgsd1zb"
   },
   "source": [
    "### Integrais"
   ]
  },
  {
   "cell_type": "code",
   "execution_count": 0,
   "metadata": {
    "colab": {
     "base_uri": "https://localhost:8080/",
     "height": 34
    },
    "colab_type": "code",
    "id": "uqBr9bk6d5WN",
    "outputId": "4792abb2-a31f-458c-c7ae-a2b9acf36ba7"
   },
   "outputs": [
    {
     "data": {
      "text/plain": [
       "1"
      ]
     },
     "execution_count": 17,
     "metadata": {
      "tags": []
     },
     "output_type": "execute_result"
    }
   ],
   "source": [
    "df= exp(-x)\n",
    "integrate(df,(x,0,oo)) #infinito é dois ós"
   ]
  },
  {
   "cell_type": "code",
   "execution_count": 0,
   "metadata": {
    "colab": {
     "base_uri": "https://localhost:8080/",
     "height": 51
    },
    "colab_type": "code",
    "id": "3HEkR_E9gVAe",
    "outputId": "1b67f2ef-9199-4c4b-e5fd-324fd0e0de7b"
   },
   "outputs": [
    {
     "name": "stdout",
     "output_type": "stream",
     "text": [
      "  -x\n",
      "-ℯ  \n"
     ]
    }
   ],
   "source": [
    "pprint(integrate(df,x)) #Integral indefinida"
   ]
  },
  {
   "cell_type": "code",
   "execution_count": 0,
   "metadata": {
    "colab": {
     "base_uri": "https://localhost:8080/",
     "height": 34
    },
    "colab_type": "code",
    "id": "G1TjFfxng15n",
    "outputId": "ce963f17-d96f-47cb-89df-73c3447bc587"
   },
   "outputs": [
    {
     "data": {
      "text/plain": [
       "pi"
      ]
     },
     "execution_count": 23,
     "metadata": {
      "tags": []
     },
     "output_type": "execute_result"
    }
   ],
   "source": [
    "#Aqui é uma integral do tipo SS ... dxdy \n",
    "integrate(exp(-x**2-a**2),(x,-oo,oo),(a,-oo,oo))"
   ]
  },
  {
   "cell_type": "markdown",
   "metadata": {
    "colab_type": "text",
    "id": "CuJJKWcliwHs"
   },
   "source": [
    "### Limite"
   ]
  },
  {
   "cell_type": "code",
   "execution_count": 0,
   "metadata": {
    "colab": {
     "base_uri": "https://localhost:8080/",
     "height": 34
    },
    "colab_type": "code",
    "id": "_My6QdBlizL8",
    "outputId": "c06a1be5-5708-4b05-f669-d36c965d4421"
   },
   "outputs": [
    {
     "data": {
      "text/plain": [
       "1"
      ]
     },
     "execution_count": 24,
     "metadata": {
      "tags": []
     },
     "output_type": "execute_result"
    }
   ],
   "source": [
    "limit(sin(x))"
   ]
  },
  {
   "cell_type": "code",
   "execution_count": 0,
   "metadata": {
    "colab": {
     "base_uri": "https://localhost:8080/",
     "height": 51
    },
    "colab_type": "code",
    "id": "yXvMbv7Ejj89",
    "outputId": "28b534bc-d608-46c1-e020-c466e964fbe5"
   },
   "outputs": [
    {
     "name": "stdout",
     "output_type": "stream",
     "text": [
      "oo\n"
     ]
    },
    {
     "data": {
      "text/plain": [
       "-oo"
      ]
     },
     "execution_count": 26,
     "metadata": {
      "tags": []
     },
     "output_type": "execute_result"
    }
   ],
   "source": [
    "#Diferença de lados positivos e negativos\n",
    "print(limit(1/x,x,0,'+'))\n",
    "limit(1/x,x,0,'-')"
   ]
  },
  {
   "cell_type": "markdown",
   "metadata": {
    "colab_type": "text",
    "id": "gCs2R53zlSV8"
   },
   "source": [
    "# Solvers"
   ]
  },
  {
   "cell_type": "code",
   "execution_count": 0,
   "metadata": {
    "colab": {
     "base_uri": "https://localhost:8080/",
     "height": 34
    },
    "colab_type": "code",
    "id": "ziF0AJdZlUv_",
    "outputId": "665c9748-2001-4b2b-b9e3-2e5772f29d4b"
   },
   "outputs": [
    {
     "data": {
      "text/plain": [
       "Eq(x**2, 1)"
      ]
     },
     "execution_count": 27,
     "metadata": {
      "tags": []
     },
     "output_type": "execute_result"
    }
   ],
   "source": [
    "#Construindo equação, algo = a algo\n",
    "Eq(x**2,1)"
   ]
  },
  {
   "cell_type": "code",
   "execution_count": 0,
   "metadata": {
    "colab": {
     "base_uri": "https://localhost:8080/",
     "height": 34
    },
    "colab_type": "code",
    "id": "Vla67VS5w1Kr",
    "outputId": "820e2f5d-6fc7-4171-d4c6-33ca0d6853a1"
   },
   "outputs": [
    {
     "data": {
      "text/plain": [
       "{-1, 1}"
      ]
     },
     "execution_count": 33,
     "metadata": {
      "tags": []
     },
     "output_type": "execute_result"
    }
   ],
   "source": [
    "solveset(Eq(x**2,1),x) #Todas as soluções possíveis"
   ]
  },
  {
   "cell_type": "code",
   "execution_count": 0,
   "metadata": {
    "colab": {
     "base_uri": "https://localhost:8080/",
     "height": 68
    },
    "colab_type": "code",
    "id": "O-zm3jURxrUl",
    "outputId": "eeb0ea39-fd50-439b-fe32-87f623617ba3"
   },
   "outputs": [
    {
     "name": "stdout",
     "output_type": "stream",
     "text": [
      "⎧        π        ⎫\n",
      "⎨2⋅n⋅π + ─ | n ∊ ℤ⎬\n",
      "⎩        2        ⎭\n"
     ]
    }
   ],
   "source": [
    "pprint(solveset(sin(x)-1,x)) #Ciclo de soluções!"
   ]
  },
  {
   "cell_type": "markdown",
   "metadata": {
    "colab_type": "text",
    "id": "Osrd0rFdzBKI"
   },
   "source": [
    "### Sistema de equações lineares"
   ]
  },
  {
   "cell_type": "code",
   "execution_count": 0,
   "metadata": {
    "colab": {
     "base_uri": "https://localhost:8080/",
     "height": 34
    },
    "colab_type": "code",
    "id": "FYYNMeHbzL7M",
    "outputId": "362310a9-0c39-429e-c48f-0b21b64b25b4"
   },
   "outputs": [
    {
     "data": {
      "text/plain": [
       "{(13, -14, 2)}"
      ]
     },
     "execution_count": 38,
     "metadata": {
      "tags": []
     },
     "output_type": "execute_result"
    }
   ],
   "source": [
    "#Isole a equação para igualar a zero, escreva\n",
    "y,z=symbols('y z')\n",
    "linsolve([x+y+z-1,x+y+2*z-3,2*x+y-z-10],(x,y,z))"
   ]
  },
  {
   "cell_type": "code",
   "execution_count": 0,
   "metadata": {
    "colab": {
     "base_uri": "https://localhost:8080/",
     "height": 34
    },
    "colab_type": "code",
    "id": "msYABRNL1qkF",
    "outputId": "bf35cec1-7849-4db3-b74f-ce0fdf007458"
   },
   "outputs": [
    {
     "name": "stdout",
     "output_type": "stream",
     "text": [
      "∅\n"
     ]
    }
   ],
   "source": [
    "#Um caso de solução impossível, também te dá caso seja indeterminado, fica em função de var\n",
    "pprint(linsolve((x+y+z-1,x+y+2*z-3,x+y-z-5),(x,y,z)))"
   ]
  },
  {
   "cell_type": "markdown",
   "metadata": {
    "colab_type": "text",
    "id": "-Xma0-8B5VGf"
   },
   "source": [
    "### Sistema de equações não lineares"
   ]
  },
  {
   "cell_type": "code",
   "execution_count": 0,
   "metadata": {
    "colab": {
     "base_uri": "https://localhost:8080/",
     "height": 34
    },
    "colab_type": "code",
    "id": "6rHL4Son5axe",
    "outputId": "8f1da0fc-cd36-4be2-e6e2-ec5441bbda2d"
   },
   "outputs": [
    {
     "data": {
      "text/plain": [
       "{(-I, -I), (-I, I), (I, -I), (I, I)}"
      ]
     },
     "execution_count": 54,
     "metadata": {
      "tags": []
     },
     "output_type": "execute_result"
    }
   ],
   "source": [
    "nonlinsolve((x**2+1,y**2+1),(x,y))"
   ]
  }
 ],
 "metadata": {
  "colab": {
   "name": "Sympy.ipynb",
   "provenance": [],
   "toc_visible": true
  },
  "kernelspec": {
   "display_name": "Python 3",
   "language": "python",
   "name": "python3"
  },
  "language_info": {
   "codemirror_mode": {
    "name": "ipython",
    "version": 3
   },
   "file_extension": ".py",
   "mimetype": "text/x-python",
   "name": "python",
   "nbconvert_exporter": "python",
   "pygments_lexer": "ipython3",
   "version": "3.7.6"
  }
 },
 "nbformat": 4,
 "nbformat_minor": 1
}
