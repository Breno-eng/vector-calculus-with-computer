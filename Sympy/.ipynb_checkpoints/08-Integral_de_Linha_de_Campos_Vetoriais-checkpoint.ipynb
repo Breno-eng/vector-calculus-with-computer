{
 "cells": [
  {
   "cell_type": "markdown",
   "metadata": {},
   "source": [
    "# Integral de Linha de Campos Vetoriais"
   ]
  },
  {
   "cell_type": "markdown",
   "metadata": {},
   "source": [
    "## Preamble"
   ]
  },
  {
   "cell_type": "code",
   "execution_count": 1,
   "metadata": {},
   "outputs": [],
   "source": [
    "import av_plot as av\n",
    "import numpy as np\n",
    "import sympy as sp\n",
    "import sympy.vector as sv\n",
    "import plotly.graph_objects as go\n",
    "from sympy.plotting.plot import plot3d, plot3d_parametric_line, plot3d_parametric_surface, plot_parametric\n",
    "import matplotlib.pyplot as plt"
   ]
  },
  {
   "cell_type": "markdown",
   "metadata": {},
   "source": [
    "Preparandndo o ambiente de plotagem"
   ]
  },
  {
   "cell_type": "code",
   "execution_count": 2,
   "metadata": {},
   "outputs": [],
   "source": [
    "%matplotlib inline\n",
    "sp.init_printing()"
   ]
  },
  {
   "cell_type": "markdown",
   "metadata": {},
   "source": [
    "Definir algumas variaveis para usar"
   ]
  },
  {
   "cell_type": "code",
   "execution_count": 3,
   "metadata": {},
   "outputs": [],
   "source": [
    "x,y,z,t,s,u,v, phi, theta = sp.symbols('x y z t s u v phi theta',real=True)"
   ]
  },
  {
   "cell_type": "markdown",
   "metadata": {},
   "source": [
    "Definir um sistema de coordenadas"
   ]
  },
  {
   "cell_type": "code",
   "execution_count": 4,
   "metadata": {},
   "outputs": [],
   "source": [
    "R = sv.CoordSys3D('R')"
   ]
  },
  {
   "cell_type": "code",
   "execution_count": null,
   "metadata": {},
   "outputs": [],
   "source": [
    "def line_integral_vectorial(field,curve,a):\n",
    "    '''\n",
    "    field: Vector field F(x,y,z) = P(x,y,z)i + R(x,y,z)j + Q(x,y,z)k\n",
    "    curve: parametrized curve r(t) = x(t)i + y(t)j + z(t)k\n",
    "    a:(Tuple) (parameter of the curve, initial point, final point)\n",
    "    Note: if the field is tridimensional, the curve also must have the same dimension. \n",
    "    \n",
    "    '''\n",
    "    f = tuple(field.components.values())\n",
    "    c = tuple(curve.components.values())\n",
    "    assert len(c)==len(f), \"Error: Dimensionaluity of the field and the curve must be equal.\"\n",
    "    \n",
    "\n",
    "    '''coordinate = [x,y,z]\n",
    "    parametrized_field=[]\n",
    "    #first we have to parametrize the field using the parametric euqations of curve.\n",
    "    for index, component in enumerate(f):\n",
    "        parametrized_field.append(component.subs(coordinate[index],c[index]))'''\n",
    "    parametrized_field = field(*c)\n",
    "        \n",
    "    '''if len(f)==2:\n",
    "        new_field = parametrized_field[0]*R.i + parametrized_field[1]*R.j \n",
    "    if len(f) == 3:    \n",
    "        new_field = parametrized_field[0]*R.i + parametrized_field[1]*R.j + parametrized_field[2]*R.k \n",
    "        '''\n",
    "    # new_filed is the parametrized field\n",
    "    \n",
    "    integrand = new_field.dot(diff(curve))\n",
    "    \n",
    "        \n",
    "    return integrate(integrand,a)\n"
   ]
  }
 ],
 "metadata": {
  "kernelspec": {
   "display_name": "Python 3",
   "language": "python",
   "name": "python3"
  },
  "language_info": {
   "codemirror_mode": {
    "name": "ipython",
    "version": 3
   },
   "file_extension": ".py",
   "mimetype": "text/x-python",
   "name": "python",
   "nbconvert_exporter": "python",
   "pygments_lexer": "ipython3",
   "version": "3.7.7"
  },
  "toc": {
   "base_numbering": 1,
   "nav_menu": {},
   "number_sections": true,
   "sideBar": true,
   "skip_h1_title": false,
   "title_cell": "Table of Contents",
   "title_sidebar": "Contents",
   "toc_cell": false,
   "toc_position": {},
   "toc_section_display": true,
   "toc_window_display": false
  },
  "varInspector": {
   "cols": {
    "lenName": 16,
    "lenType": 16,
    "lenVar": 40
   },
   "kernels_config": {
    "python": {
     "delete_cmd_postfix": "",
     "delete_cmd_prefix": "del ",
     "library": "var_list.py",
     "varRefreshCmd": "print(var_dic_list())"
    },
    "r": {
     "delete_cmd_postfix": ") ",
     "delete_cmd_prefix": "rm(",
     "library": "var_list.r",
     "varRefreshCmd": "cat(var_dic_list()) "
    }
   },
   "types_to_exclude": [
    "module",
    "function",
    "builtin_function_or_method",
    "instance",
    "_Feature"
   ],
   "window_display": false
  }
 },
 "nbformat": 4,
 "nbformat_minor": 4
}
