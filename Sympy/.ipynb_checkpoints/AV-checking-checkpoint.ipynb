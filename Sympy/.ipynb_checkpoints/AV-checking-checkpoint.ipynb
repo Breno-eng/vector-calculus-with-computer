{
 "cells": [
  {
   "cell_type": "code",
   "execution_count": 37,
   "metadata": {},
   "outputs": [
    {
     "name": "stdout",
     "output_type": "stream",
     "text": [
      "Notebook initialized with ipy backend.\n"
     ]
    }
   ],
   "source": [
    "import numpy as np\n",
    "\n",
    "from sympy import *\n",
    "from sympy.plotting.plot import plot3d_parametric_line, plot3d_parametric_surface\n",
    "init_printing()\n",
    "\n",
    "import matplotlib.pyplot as plt\n",
    "%matplotlib inline\n",
    "\n",
    "\n",
    "from mayavi import mlab\n",
    "mlab.init_notebook()\n",
    "mlab.clf()\n",
    "\n"
   ]
  },
  {
   "cell_type": "code",
   "execution_count": 6,
   "metadata": {},
   "outputs": [],
   "source": [
    "from sympy.vector import CoordSys3D \n",
    "C = CoordSys3D('C')"
   ]
  },
  {
   "cell_type": "code",
   "execution_count": 6,
   "metadata": {},
   "outputs": [],
   "source": [
    "x,y,z,u,v, t = symbols('x y z u v t')"
   ]
  },
  {
   "cell_type": "code",
   "execution_count": 7,
   "metadata": {},
   "outputs": [],
   "source": [
    "def Substitute(f,*args):\n",
    "    '''\n",
    "    the number of the variables of the vectorial function 'f' must be eqaul to the given parameters.\n",
    "    Examples:\n",
    "    1- Substitute((cos(t),sin(t),t),(t,pi))\n",
    "    2- Substitute((v*cos(u),v*sin(u),u),(u,pi),(v,3))\n",
    "    \n",
    "    '''\n",
    "    if not isinstance(f, tuple):\n",
    "        for case in args:\n",
    "            f = f.subs(*case)\n",
    "        return f\n",
    "    \n",
    "    parameters = set()\n",
    "    result=[]\n",
    "    for component in f:\n",
    "        # in the below the 'if statement' check if the component of curve is a sympy object. \n",
    "        if isinstance(component,tuple(core.all_classes)):\n",
    "            parameters.update(component.free_symbols)\n",
    "        \n",
    "            \n",
    "        \n",
    "    assert len(args)==len(parameters), \"Error: the number of given parameters isn't equal to the number of variables of the function\"\n",
    "    \n",
    "    # Here we call the component of the curve one-by-one and substitute the free variables by given parameteres. \n",
    "    for component in f:\n",
    "        if not isinstance(component,tuple(core.all_classes)):\n",
    "            result.append(component)\n",
    "            continue\n",
    "        for variable in args:\n",
    "            component = component.subs(variable[0],variable[1])\n",
    "        result.append(component)\n",
    "    return tuple(result) "
   ]
  },
  {
   "cell_type": "code",
   "execution_count": null,
   "metadata": {},
   "outputs": [],
   "source": [
    "def Plot_Position_Vector(curve, a, number=5):\n",
    "    '''\n",
    "    This function takes a 2D curve and draw some of its positional vectors.\n",
    "    f: (Tuple) 2D parametric curve,\n",
    "    a: (Tulpe with 3 elements)(parameter, start, stop)\n",
    "    number: (integer) number of the position vectors in the above interval. \n",
    "    '''\n",
    "    \n",
    "    from sympy.plotting.plot import plot_parametric\n",
    "    curve_components = tuple(curve.components.values())\n",
    "    plot_curve = plot_parametric(*curve_components, a, show=False)\n",
    "    \n",
    "    fig, ax = plt.subplots(ncols=1)\n",
    "    ax.set_aspect('equal')\n",
    "    \n",
    "    dx = [Substitute(f[0],(a[0],x)) for x in np.linspace(float(a[1]),float(a[2]),number)]\n",
    "    dy = [Substitute(f[1],(a[0],y)) for y in np.linspace(float(a[1]),float(a[2]),number)]\n",
    "    for i in range(len(dx)):\n",
    "        ax.arrow(0,0,float(dx[i]),float(dy[i]),head_width = 0.05, head_length=0.05,length_includes_head=True)\n",
    "        #ax.add_artist(a)\n",
    "    \n",
    "    \n",
    "   \n",
    "    \n",
    "    move_sympyplot_to_axes(plot_curve, ax)\n",
    "    \n",
    "    \n",
    "    plt.show()"
   ]
  },
  {
   "cell_type": "code",
   "execution_count": null,
   "metadata": {},
   "outputs": [],
   "source": [
    "def Plot3d_Position_Vector(f, a, number=5):\n",
    "    '''\n",
    "    This function takes a 3D curve and draw some of its positional vectors.\n",
    "    f: (Tuple) 3D parametric curve,\n",
    "    a: (Tulpe with 3 elements)(parameter, start, stop)\n",
    "    number: (integer) number of the position vectors in the above interval. \n",
    "    '''\n",
    "    from sympy.plotting.plot import plot3d_parametric_line\n",
    "    from mpl_toolkits.mplot3d import Axes3D\n",
    "    curve = plot3d_parametric_line(*f, a, show = False)\n",
    "    \n",
    "    fig = plt.figure()\n",
    "    ax = fig.gca(projection='3d')\n",
    "    \n",
    "    '''fig, ax = plt.subplots(ncols=1)\n",
    "    ax.set_aspect('equal')\n",
    "    ax.gca(projection='3d')'''\n",
    "    \n",
    "    dx = [Substitute(f[0],(a[0],x)) for x in np.linspace(float(a[1]),float(a[2]),number)]\n",
    "    dy = [Substitute(f[1],(a[0],y)) for y in np.linspace(float(a[1]),float(a[2]),number)]\n",
    "    dz = [Substitute(f[2],(a[0],z)) for z in np.linspace(float(a[1]),float(a[2]),number)]\n",
    "    for i in range(len(dx)):\n",
    "        a = Arrow3D([0,float(dx[i])],[0,float(dy[i])],[0,float(dz[i])], \n",
    "                    mutation_scale=20, lw=1, arrowstyle=\"-|>\", color=\"r\")\n",
    "        ax.add_artist(a)\n",
    "        \n",
    "    move_sympyplot_to_axes(curve, ax)\n",
    "    plt.draw()\n",
    "    plt.show()"
   ]
  },
  {
   "cell_type": "code",
   "execution_count": null,
   "metadata": {},
   "outputs": [],
   "source": [
    "def Dot(x,y):\n",
    "    assert len(x)==len(y), \"Two vectors must have the same dimension\" \n",
    "    result = 0\n",
    "    for i in range(len(x)):\n",
    "        result += x[i]*y[i]\n",
    "    return result"
   ]
  },
  {
   "cell_type": "code",
   "execution_count": null,
   "metadata": {},
   "outputs": [],
   "source": [
    "def Cross(v ,u):\n",
    "    '''\n",
    "    Cross product of two vectors in the Cartesian Coordinate System\n",
    "    '''\n",
    "    assert len(v)==len(u)==3,'Error'\n",
    "    return (v[1]*u[2] - v[2]*u[1], -(v[0]*u[2]-v[2]*u[0]), v[0]*u[1] - v[1]*u[0])"
   ]
  },
  {
   "cell_type": "code",
   "execution_count": null,
   "metadata": {},
   "outputs": [],
   "source": [
    "def Diff(f,*args):\n",
    "    return tuple([diff(x,*args) for x in f])"
   ]
  },
  {
   "cell_type": "code",
   "execution_count": 66,
   "metadata": {},
   "outputs": [],
   "source": [
    "import matplotlib.pyplot as plt\n",
    "%matplotlib inline\n",
    "from sympy.plotting.plot import plot_parametric\n",
    "from sympy import *\n",
    "from sympy.abc import x,y,z"
   ]
  },
  {
   "cell_type": "code",
   "execution_count": 59,
   "metadata": {},
   "outputs": [],
   "source": [
    "import matplotlib.pyplot as plt\n",
    "from mpl_toolkits.mplot3d import Axes3D\n",
    "from matplotlib.patches import FancyArrowPatch\n",
    "from mpl_toolkits.mplot3d import proj3d\n",
    "\n",
    "class Arrow3D(FancyArrowPatch):\n",
    "    def __init__(self, xs, ys, zs, *args, **kwargs):\n",
    "        FancyArrowPatch.__init__(self, (0,0), (0,0), *args, **kwargs)\n",
    "        self._verts3d = xs, ys, zs\n",
    "\n",
    "    def draw(self, renderer):\n",
    "        xs3d, ys3d, zs3d = self._verts3d\n",
    "        xs, ys, zs = proj3d.proj_transform(xs3d, ys3d, zs3d, renderer.M)\n",
    "        self.set_positions((xs[0],ys[0]),(xs[1],ys[1]))\n",
    "        FancyArrowPatch.draw(self, renderer)"
   ]
  },
  {
   "cell_type": "code",
   "execution_count": 60,
   "metadata": {},
   "outputs": [],
   "source": [
    "def Plot_Position_Vector(f, a, number=5):\n",
    "    '''\n",
    "    This function takes a 2D curve and draw some of its positional vectors.\n",
    "    f: (Tuple) 2D parametric curve,\n",
    "    a: (Tulpe with 3 elements)(parameter, start, stop)\n",
    "    number: (integer) number of the position vectors in the above interval. \n",
    "    '''\n",
    "    \n",
    "    from sympy.plotting.plot import plot_parametric\n",
    "    curve = plot_parametric(f, a, show=False)\n",
    "    \n",
    "    fig, ax = plt.subplots(ncols=1)\n",
    "    ax.set_aspect('equal')\n",
    "    \n",
    "    dx = [Substitute(f[0],(a[0],x)) for x in np.linspace(float(a[1]),float(a[2]),number)]\n",
    "    dy = [Substitute(f[1],(a[0],y)) for y in np.linspace(float(a[1]),float(a[2]),number)]\n",
    "    for i in range(len(dx)):\n",
    "        ax.arrow(0,0,float(dx[i]),float(dy[i]),head_width = 0.05, head_length=0.05,length_includes_head=True)\n",
    "        #ax.add_artist(a)\n",
    "    \n",
    "    \n",
    "   \n",
    "    \n",
    "    move_sympyplot_to_axes(curve, ax)\n",
    "    \n",
    "    \n",
    "    plt.show()"
   ]
  },
  {
   "cell_type": "code",
   "execution_count": null,
   "metadata": {},
   "outputs": [],
   "source": [
    "fig = plt.figure.\n",
    "fig."
   ]
  },
  {
   "cell_type": "code",
   "execution_count": 70,
   "metadata": {},
   "outputs": [
    {
     "data": {
      "image/png": "[encoded data removed]",
      "text/plain": [
       "<Figure size 432x288 with 1 Axes>"
      ]
     },
     "metadata": {
      "needs_background": "light"
     },
     "output_type": "display_data"
    }
   ],
   "source": [
    "from mpl_toolkits.mplot3d import Axes3D  # noqa: F401 unused import\n",
    "\n",
    "import matplotlib.pyplot as plt\n",
    "import numpy as np\n",
    "%matplotlib inline\n",
    "\n",
    "fig = plt.figure()\n",
    "ax = fig.gca(projection='3d')\n",
    "\n",
    "# Make the grid\n",
    "x, y, z = np.meshgrid(np.arange(-0.8, 1, 0.2),\n",
    "                      np.arange(-0.8, 1, 0.2),\n",
    "                      np.arange(-0.8, 1, 0.8))\n",
    "\n",
    "# Make the direction data for the arrows\n",
    "u = np.sin(np.pi * x) * np.cos(np.pi * y) * np.cos(np.pi * z)\n",
    "v = -np.cos(np.pi * x) * np.sin(np.pi * y) * np.cos(np.pi * z)\n",
    "w = (np.sqrt(2.0 / 3.0) * np.cos(np.pi * x) * np.cos(np.pi * y) *\n",
    "     np.sin(np.pi * z))\n",
    "\n",
    "ax.quiver(x, y, z, u, v, w, length=0.2, normalize=True)\n",
    "\n",
    "plt.show()"
   ]
  },
  {
   "cell_type": "code",
   "execution_count": null,
   "metadata": {},
   "outputs": [],
   "source": [
    "from sympy import *\n",
    "x , y,z = symbols('x y z')\n",
    "Vector_Plot_3D((x**2,y**2,z**2), (x,-10,10),(y,-10,10),(z,-10,20))"
   ]
  },
  {
   "cell_type": "code",
   "execution_count": 17,
   "metadata": {},
   "outputs": [
    {
     "data": {
      "application/vnd.jupyter.widget-view+json": {
       "model_id": "18e42d9114984b7783b67f6920036553",
       "version_major": 2,
       "version_minor": 0
      },
      "text/plain": [
       "Image(value=b'\\x89PNG\\r\\n\\x1a\\n\\x00\\x00\\x00\\rIHDR\\x00\\x00\\x01\\x90\\x00\\x00\\x01^\\x08\\x02\\x00\\x00\\x00$?\\xde_\\x00\\…"
      ]
     },
     "metadata": {},
     "output_type": "display_data"
    }
   ],
   "source": [
    "%gui qt\n",
    "from mayavi import mlab\n",
    "import numpy as np\n",
    "x, y, z = np.mgrid[0:1:20j, 0:1:20j, 0:1:20j]\n",
    "\n",
    "u =    np.sin(np.pi*x) * np.cos(np.pi*z)\n",
    "v = -2*np.sin(np.pi*y) * np.cos(2*np.pi*z)\n",
    "w = np.cos(np.pi*x)*np.sin(np.pi*z) + np.cos(np.pi*y)*np.sin(2*np.pi*z)\n",
    "#src = mlab.pipeline.vector_field(u, v, w)\n",
    "#mlab.pipeline.vectors(src, mask_points=20, scale_factor=3.)\n",
    "mlab.quiver3d(u,v,w)"
   ]
  },
  {
   "cell_type": "code",
   "execution_count": null,
   "metadata": {},
   "outputs": [],
   "source": [
    "Vector_Plot((sin(x),cos(y)),(x,-3,3),(y,-3,3))"
   ]
  },
  {
   "cell_type": "code",
   "execution_count": null,
   "metadata": {},
   "outputs": [],
   "source": [
    "%gui qt\n",
    "import matplotlib.pyplot as plt\n",
    "import numpy as np\n",
    "from sympy import symbols\n",
    "from mayavi import mlab\n",
    "mlab.init_notebook()\n",
    "mlab.clf()\n",
    "\n",
    "#from mpl_toolkits.mplot3d import Axes3D\n",
    "#fig = plt.figure()\n",
    "#ax = fig.gca(projection='3d')\n",
    "%matplotlib inline\n",
    "\n",
    "x,y,z = symbols('x y z')\n",
    "def gradient(f):\n",
    "    return (f.diff(x), f.diff(y),f.diff(z))\n",
    "\n",
    "f = x*y**2+z**2\n",
    "g = gradient(f)\n",
    "g\n",
    "\n",
    "xrange = np.linspace(-3,3,10)\n",
    "yrange = np.linspace(-3,3,10)\n",
    "zrange = np.linspace(-3,3,10)\n",
    "X,Y,Z = np.meshgrid(xrange, yrange, zrange)\n",
    "\n",
    "U = np.zeros((10,10,10))\n",
    "V = np.zeros((10,10,10))\n",
    "W = np.zeros((10,10,10))\n",
    "\n",
    "for i in range(len(xrange)):\n",
    "    for j in range(len(yrange)):\n",
    "        for k in range(len(zrange)):\n",
    "            x1 = X[i,j,k]\n",
    "            y1 = Y[i,j,k]\n",
    "            z1 = Z[i,j,k]\n",
    "            U[i,j,k] = g[0].subs({x:x1, y:y1, z:z1})\n",
    "            V[i,j,k] = g[1].subs({x:x1, y:y1, z:z1})\n",
    "            W[i,j,k] = g[2].subs({x:x1, y:y1, z:z1})\n",
    "\n",
    "        \n",
    "#ax.quiver(X,Y,Z,U,V,W)\n",
    "#quiver3d(X,Y,Z,U,V,W)\n",
    "src = mlab.pipeline.vector_field(u, v, w)\n",
    "mlab.pipeline.vectors(src, mask_points=20, scale_factor=3)\n",
    "# plt.title(\"vector field\")\n",
    "#plt.show()"
   ]
  },
  {
   "cell_type": "code",
   "execution_count": null,
   "metadata": {},
   "outputs": [],
   "source": [
    "def Vector_Plot_3D_mayavi(f, a, b, c, mask_points=1, scale_factor=3, mesh_size=10):\n",
    "    assert len(a)==len(b)==len(c)==3, \"A 3D vector field needs three argments\"\n",
    "    assert len(f)==3, \"This function just handle the 3D vector fields\"\n",
    "    \n",
    "    %gui qt\n",
    "    \n",
    "    from mayavi import mlab   \n",
    "    #mlab.init_notebook()\n",
    "    #mlab.clf()\n",
    "    import numpy as np\n",
    "    #import matplotlib.pyplot as plt\n",
    "    #%matplotlib notebook\n",
    "    \n",
    "# Make the grid\n",
    "    xrange = np.linspace(a[1],a[2],mesh_size)\n",
    "    yrange = np.linspace(b[1],b[2],mesh_size)\n",
    "    zrange = np.linspace(c[1],c[2],mesh_size)\n",
    "    x, y, z = np.meshgrid(xrange, yrange, zrange)\n",
    "    \n",
    "\n",
    "# Make the direction data for the arrows\n",
    "    u = np.zeros((mesh_size,mesh_size,mesh_size))\n",
    "    v = np.zeros((mesh_size,mesh_size,mesh_size))\n",
    "    w = np.zeros((mesh_size,mesh_size,mesh_size))\n",
    "    \n",
    "    for i in range(len(xrange)):\n",
    "        for j in range(len(yrange)):\n",
    "            for k in range(len(zrange)):\n",
    "                x1 = x[i,j,k]\n",
    "                y1 = y[i,j,k]\n",
    "                z1 = z[i,j,k]\n",
    "                u[i,j,k] = f[0].subs({a[0]:x1, b[0]:y1, c[0]:z1})\n",
    "                v[i,j,k] = f[1].subs({a[0]:x1, b[0]:y1, c[0]:z1})\n",
    "                w[i,j,k] = f[2].subs({a[0]:x1, b[0]:y1, c[0]:z1})\n",
    "\n",
    "    mlab.init_notebook()\n",
    "    mlab.clf()\n",
    "    src = mlab.pipeline.vector_field(u, v, w)\n",
    "    return mlab.pipeline.vectors(src, mask_points=mask_points, scale_factor=scale_factor)\n",
    "    #mlab.pipeline.vector_cut_plane(src, mask_points=2, scale_factor=3)\n",
    "    #mlab.savefig('test.jpg')"
   ]
  },
  {
   "cell_type": "code",
   "execution_count": 15,
   "metadata": {},
   "outputs": [
    {
     "name": "stdout",
     "output_type": "stream",
     "text": [
      "Notebook initialized with ipy backend.\n"
     ]
    },
    {
     "data": {
      "application/vnd.jupyter.widget-view+json": {
       "model_id": "18e42d9114984b7783b67f6920036553",
       "version_major": 2,
       "version_minor": 0
      },
      "text/plain": [
       "Image(value=b'\\x89PNG\\r\\n\\x1a\\n\\x00\\x00\\x00\\rIHDR\\x00\\x00\\x01\\x90\\x00\\x00\\x01^\\x08\\x02\\x00\\x00\\x00$?\\xde_\\x00\\…"
      ]
     },
     "metadata": {},
     "output_type": "display_data"
    }
   ],
   "source": [
    "%gui qt\n",
    "\n",
    "from mayavi import mlab\n",
    "mlab.init_notebook()\n",
    "mlab.clf()\n",
    "import numpy as np\n",
    "\n",
    "def V(x, y, z):\n",
    "    \"\"\" A 3D sinusoidal lattice with a parabolic confinement. \"\"\"\n",
    "    return np.cos(10*x) + np.cos(10*y) + np.cos(10*z) + 2*(x**2 + y**2 + z**2)\n",
    "X, Y, Z = np.mgrid[-2:2:100j, -2:2:100j, -2:2:100j]\n",
    "mlab.contour3d(X, Y, Z, V)"
   ]
  },
  {
   "cell_type": "code",
   "execution_count": 2,
   "metadata": {},
   "outputs": [],
   "source": [
    "def Dot(x,y):\n",
    "    assert len(x)==len(y), \"Two vectors must have the same dimension\" \n",
    "    result = 0\n",
    "    for i in range(len(x)):\n",
    "        result += x[i]*y[i]\n",
    "    return result"
   ]
  },
  {
   "cell_type": "code",
   "execution_count": 3,
   "metadata": {},
   "outputs": [],
   "source": [
    "def Diff(f,*args):\n",
    "    return tuple([diff(x,*args) for x in f])"
   ]
  },
  {
   "cell_type": "markdown",
   "metadata": {},
   "source": [
    "Line integrais are frequently encountered in science and engineering $$\\int_a^b \\vec{F}. d\\vec{r}$$"
   ]
  },
  {
   "cell_type": "code",
   "execution_count": 4,
   "metadata": {},
   "outputs": [],
   "source": [
    "def Line_Integral(field,curve,a):\n",
    "    '''\n",
    "    field:(Tuple) Vector field\n",
    "    curve:(Tuple) parametrized curve\n",
    "    a:(Tuple) (parameter of the curve, initial point, final point)\n",
    "    Note: if the field is tridimensional, the curve also must have the same dimension. \n",
    "    \n",
    "    '''\n",
    "    assert len(field)==len(curve), \"Error: Dimensionaluity of the field and the curve must be equal.\"\n",
    "    \n",
    "    from sympy.abc import x , y, z\n",
    "    coordinate = [x,y,z]\n",
    "    parametrized_field=[]\n",
    "    for index, component in enumerate(field):\n",
    "        parametrized_field.append(Substitute(component,(coordinate[index], curve[index])))\n",
    "    \n",
    "    integrand = Dot(parametrized_field, Diff(curve,a[0]))\n",
    "    \n",
    "        \n",
    "    return integrate(integrand,a)"
   ]
  },
  {
   "cell_type": "code",
   "execution_count": 8,
   "metadata": {},
   "outputs": [
    {
     "data": {
      "image/png": "[encoded data removed]",
      "text/latex": [
       "$\\displaystyle - \\frac{2}{3} + \\frac{\\pi^{3}}{3}$"
      ],
      "text/plain": [
       "       3\n",
       "  2   π \n",
       "- ─ + ──\n",
       "  3   3 "
      ]
     },
     "execution_count": 8,
     "metadata": {},
     "output_type": "execute_result"
    }
   ],
   "source": [
    "Line_Integral((x**2,y**2,z**2),(cos(t),sin(t),t), (t,0,pi))"
   ]
  },
  {
   "cell_type": "code",
   "execution_count": 21,
   "metadata": {},
   "outputs": [],
   "source": [
    "def Norm(v):\n",
    "    return simplify(sqrt(Dot(v,v)))"
   ]
  },
  {
   "cell_type": "code",
   "execution_count": 12,
   "metadata": {},
   "outputs": [],
   "source": [
    "from sympy.vector import CoordSys3D \n",
    "from sympy import *\n",
    "x,y,z,phi,theta,t = symbols('x y z phi theta t') "
   ]
  },
  {
   "cell_type": "code",
   "execution_count": 7,
   "metadata": {},
   "outputs": [],
   "source": []
  },
  {
   "cell_type": "code",
   "execution_count": 8,
   "metadata": {},
   "outputs": [
    {
     "data": {
      "text/latex": [
       "$\\displaystyle \\mathbf{\\hat{i}_{R}}$"
      ],
      "text/plain": [
       "R.i"
      ]
     },
     "execution_count": 8,
     "metadata": {},
     "output_type": "execute_result"
    }
   ],
   "source": [
    "R.i"
   ]
  },
  {
   "cell_type": "code",
   "execution_count": 89,
   "metadata": {},
   "outputs": [],
   "source": [
    "class Curve:\n",
    "    from sympy.vector import CoordSys3D\n",
    "    R = CoordSys3D('R')\n",
    "    \n",
    "    \n",
    "    def __init__(self,a,b,c):\n",
    "        self.x = a\n",
    "        self.y = b\n",
    "        self.z = c\n",
    "        print(a*R.i + b*R.j + c*R.k)\n",
    "         "
   ]
  },
  {
   "cell_type": "code",
   "execution_count": 90,
   "metadata": {},
   "outputs": [
    {
     "name": "stdout",
     "output_type": "stream",
     "text": [
      "(cos(t))*R.i + (sin(t))*R.j + t*R.k\n"
     ]
    }
   ],
   "source": [
    "curva = Curve(cos(t),sin(t),t)"
   ]
  },
  {
   "cell_type": "code",
   "execution_count": null,
   "metadata": {},
   "outputs": [],
   "source": []
  },
  {
   "cell_type": "code",
   "execution_count": 93,
   "metadata": {},
   "outputs": [],
   "source": [
    "def vector(a,b,c):\n",
    "    \n",
    "    from sympy.vector import CoordSys3D\n",
    "    R = CoordSys3D('R')\n",
    "    #rint(a*R.i + b*R.j + c*R.k)\n",
    "    parameters = set()\n",
    "    for component in (a,b,c):\n",
    "        # in the below the 'if statement' check if the component of curve is a sympy object. \n",
    "        if isinstance(component,tuple(core.all_classes)):\n",
    "            parameters.update(component.free_symbols)\n",
    "        \n",
    "    var = list(parameters)[0]\n",
    "    assert len(parameters)==1 , \"Error: A parametrized curve has only one parameter.\"\n",
    "    \n",
    "    def point(i):\n",
    "        return a.subs(var,i), b.subs(var,i), c.subs(var,i)\n",
    "    \n",
    "    #return point\n",
    "    return expand(a*R.i + b*R.j + c*R.k)"
   ]
  },
  {
   "cell_type": "code",
   "execution_count": 95,
   "metadata": {},
   "outputs": [],
   "source": [
    "vec = vector(cos(t),sin(t),t)"
   ]
  },
  {
   "cell_type": "code",
   "execution_count": 96,
   "metadata": {},
   "outputs": [
    {
     "data": {
      "image/png": "[encoded data removed]",
      "text/latex": [
       "$\\displaystyle (\\cos{\\left(t \\right)})\\mathbf{\\hat{i}_{R}} + (\\sin{\\left(t \\right)})\\mathbf{\\hat{j}_{R}} + (t)\\mathbf{\\hat{k}_{R}}$"
      ],
      "text/plain": [
       "(cos(t))*R.i + (sin(t))*R.j + t*R.k"
      ]
     },
     "execution_count": 96,
     "metadata": {},
     "output_type": "execute_result"
    }
   ],
   "source": [
    "vec"
   ]
  },
  {
   "cell_type": "code",
   "execution_count": 81,
   "metadata": {
    "scrolled": true
   },
   "outputs": [
    {
     "data": {
      "image/png": "[encoded data removed]",
      "text/latex": [
       "$\\displaystyle \\left\\{ \\mathbf{\\hat{i}_{R}} : \\cos{\\left(t \\right)}, \\  \\mathbf{\\hat{j}_{R}} : \\sin{\\left(t \\right)}, \\  \\mathbf{\\hat{k}_{R}} : t\\right\\}$"
      ],
      "text/plain": [
       "{i_R: cos(t), j_R: sin(t), k_R: t}"
      ]
     },
     "execution_count": 81,
     "metadata": {},
     "output_type": "execute_result"
    }
   ],
   "source": [
    "vec.components"
   ]
  },
  {
   "cell_type": "code",
   "execution_count": null,
   "metadata": {},
   "outputs": [],
   "source": [
    "vec.co"
   ]
  },
  {
   "cell_type": "code",
   "execution_count": 70,
   "metadata": {},
   "outputs": [],
   "source": [
    "def vector1(a,b,c):\n",
    "    \n",
    "    from sympy.vector import CoordSys3D\n",
    "    R = CoordSys3D('R')\n",
    "    return a*R.i + b*R.j + c*R.k"
   ]
  },
  {
   "cell_type": "code",
   "execution_count": 73,
   "metadata": {},
   "outputs": [],
   "source": [
    "vec1 = vector1(cos(t),sin(t),t)"
   ]
  },
  {
   "cell_type": "code",
   "execution_count": 74,
   "metadata": {},
   "outputs": [
    {
     "data": {
      "image/png": "[encoded data removed]",
      "text/latex": [
       "$\\displaystyle \\left\\{ \\mathbf{\\hat{i}_{R}} : \\cos{\\left(t \\right)}, \\  \\mathbf{\\hat{j}_{R}} : \\sin{\\left(t \\right)}, \\  \\mathbf{\\hat{k}_{R}} : t\\right\\}$"
      ],
      "text/plain": [
       "{i_R: cos(t), j_R: sin(t), k_R: t}"
      ]
     },
     "execution_count": 74,
     "metadata": {},
     "output_type": "execute_result"
    }
   ],
   "source": [
    "vec.components"
   ]
  },
  {
   "cell_type": "code",
   "execution_count": 65,
   "metadata": {},
   "outputs": [
    {
     "data": {
      "image/png": "[encoded data removed]",
      "text/latex": [
       "$\\displaystyle (2)\\mathbf{\\hat{i}_{R}} + (3)\\mathbf{\\hat{j}_{R}} + (4)\\mathbf{\\hat{k}_{R}}$"
      ],
      "text/plain": [
       "2*R.i + 3*R.j + 4*R.k"
      ]
     },
     "execution_count": 65,
     "metadata": {},
     "output_type": "execute_result"
    }
   ],
   "source": [
    "vector1(2,3,4)"
   ]
  },
  {
   "cell_type": "code",
   "execution_count": 69,
   "metadata": {},
   "outputs": [
    {
     "ename": "AttributeError",
     "evalue": "'VectorAdd' object has no attribute 'component'",
     "output_type": "error",
     "traceback": [
      "\u001b[0;31m---------------------------------------------------------------------------\u001b[0m",
      "\u001b[0;31mAttributeError\u001b[0m                            Traceback (most recent call last)",
      "\u001b[0;32m<ipython-input-69-eba7572f677e>\u001b[0m in \u001b[0;36m<module>\u001b[0;34m\u001b[0m\n\u001b[0;32m----> 1\u001b[0;31m \u001b[0mvec\u001b[0m\u001b[0;34m.\u001b[0m\u001b[0mcomponent\u001b[0m\u001b[0;34m\u001b[0m\u001b[0;34m\u001b[0m\u001b[0m\n\u001b[0m",
      "\u001b[0;31mAttributeError\u001b[0m: 'VectorAdd' object has no attribute 'component'"
     ]
    }
   ],
   "source": [
    "vec.component"
   ]
  },
  {
   "cell_type": "code",
   "execution_count": 15,
   "metadata": {},
   "outputs": [],
   "source": [
    "def f(x):\n",
    "    return x**2+1"
   ]
  },
  {
   "cell_type": "code",
   "execution_count": 18,
   "metadata": {},
   "outputs": [
    {
     "data": {
      "text/plain": [
       "2"
      ]
     },
     "execution_count": 18,
     "metadata": {},
     "output_type": "execute_result"
    }
   ],
   "source": [
    "f(1)"
   ]
  },
  {
   "cell_type": "code",
   "execution_count": 19,
   "metadata": {},
   "outputs": [
    {
     "data": {
      "text/latex": [
       "$\\displaystyle x^{2} + 1$"
      ],
      "text/plain": [
       "x**2 + 1"
      ]
     },
     "execution_count": 19,
     "metadata": {},
     "output_type": "execute_result"
    }
   ],
   "source": [
    "f(x)"
   ]
  },
  {
   "cell_type": "code",
   "execution_count": 47,
   "metadata": {},
   "outputs": [],
   "source": [
    "test = set('2')"
   ]
  },
  {
   "cell_type": "code",
   "execution_count": 48,
   "metadata": {},
   "outputs": [
    {
     "ename": "TypeError",
     "evalue": "'set' object is not subscriptable",
     "output_type": "error",
     "traceback": [
      "\u001b[0;31m---------------------------------------------------------------------------\u001b[0m",
      "\u001b[0;31mTypeError\u001b[0m                                 Traceback (most recent call last)",
      "\u001b[0;32m<ipython-input-48-6caaab14b5ef>\u001b[0m in \u001b[0;36m<module>\u001b[0;34m\u001b[0m\n\u001b[0;32m----> 1\u001b[0;31m \u001b[0mtest\u001b[0m\u001b[0;34m[\u001b[0m\u001b[0;36m0\u001b[0m\u001b[0;34m]\u001b[0m\u001b[0;34m\u001b[0m\u001b[0;34m\u001b[0m\u001b[0m\n\u001b[0m",
      "\u001b[0;31mTypeError\u001b[0m: 'set' object is not subscriptable"
     ]
    }
   ],
   "source": [
    "test[0]"
   ]
  },
  {
   "cell_type": "code",
   "execution_count": 25,
   "metadata": {},
   "outputs": [
    {
     "ename": "TypeError",
     "evalue": "__init__() should return None, not 'tuple'",
     "output_type": "error",
     "traceback": [
      "\u001b[0;31m---------------------------------------------------------------------------\u001b[0m",
      "\u001b[0;31mTypeError\u001b[0m                                 Traceback (most recent call last)",
      "\u001b[0;32m<ipython-input-25-791afc6b0d7a>\u001b[0m in \u001b[0;36m<module>\u001b[0;34m\u001b[0m\n\u001b[0;32m----> 1\u001b[0;31m \u001b[0mVECTOR\u001b[0m\u001b[0;34m(\u001b[0m\u001b[0mcos\u001b[0m\u001b[0;34m(\u001b[0m\u001b[0mt\u001b[0m\u001b[0;34m)\u001b[0m\u001b[0;34m,\u001b[0m\u001b[0msin\u001b[0m\u001b[0;34m(\u001b[0m\u001b[0mt\u001b[0m\u001b[0;34m)\u001b[0m\u001b[0;34m,\u001b[0m\u001b[0mt\u001b[0m\u001b[0;34m)\u001b[0m\u001b[0;34m\u001b[0m\u001b[0;34m\u001b[0m\u001b[0m\n\u001b[0m",
      "\u001b[0;31mTypeError\u001b[0m: __init__() should return None, not 'tuple'"
     ]
    }
   ],
   "source": [
    "VECTOR(cos(t),sin(t),t)"
   ]
  },
  {
   "cell_type": "code",
   "execution_count": 97,
   "metadata": {},
   "outputs": [],
   "source": [
    "def Curve(t):\n",
    "    from sympy.vector import CoordSys3D\n",
    "    R = CoordSys3D('R')\n",
    "    return cos(t)*R.i + sin(t)*R.j + t*R.k"
   ]
  },
  {
   "cell_type": "code",
   "execution_count": 107,
   "metadata": {},
   "outputs": [
    {
     "ename": "SyntaxError",
     "evalue": "can't assign to function call (<ipython-input-107-5a5f3a6a2379>, line 1)",
     "output_type": "error",
     "traceback": [
      "\u001b[0;36m  File \u001b[0;32m\"<ipython-input-107-5a5f3a6a2379>\"\u001b[0;36m, line \u001b[0;32m1\u001b[0m\n\u001b[0;31m    curv(t) = Curve(t)\u001b[0m\n\u001b[0m                      ^\u001b[0m\n\u001b[0;31mSyntaxError\u001b[0m\u001b[0;31m:\u001b[0m can't assign to function call\n"
     ]
    }
   ],
   "source": [
    "curv(t) = Curve(t)"
   ]
  },
  {
   "cell_type": "code",
   "execution_count": 105,
   "metadata": {},
   "outputs": [
    {
     "data": {
      "image/png": "[encoded data removed]",
      "text/latex": [
       "$\\displaystyle - \\mathbf{\\hat{i}_{R}} + (\\pi)\\mathbf{\\hat{k}_{R}}$"
      ],
      "text/plain": [
       "(-1)*R.i + pi*R.k"
      ]
     },
     "execution_count": 105,
     "metadata": {},
     "output_type": "execute_result"
    }
   ],
   "source": [
    "curv.subs(t,pi)"
   ]
  },
  {
   "cell_type": "code",
   "execution_count": 106,
   "metadata": {},
   "outputs": [
    {
     "data": {
      "image/png": "[encoded data removed]",
      "text/latex": [
       "$\\displaystyle \\left\\{ \\mathbf{\\hat{i}_{R}} : \\cos{\\left(t \\right)}, \\  \\mathbf{\\hat{j}_{R}} : \\sin{\\left(t \\right)}, \\  \\mathbf{\\hat{k}_{R}} : t\\right\\}$"
      ],
      "text/plain": [
       "{i_R: cos(t), j_R: sin(t), k_R: t}"
      ]
     },
     "execution_count": 106,
     "metadata": {},
     "output_type": "execute_result"
    }
   ],
   "source": [
    "curv.components"
   ]
  },
  {
   "cell_type": "code",
   "execution_count": 108,
   "metadata": {},
   "outputs": [],
   "source": [
    "def curve1(t): return cos(t)*R.i + sin(t)*R.j + t*R.k"
   ]
  },
  {
   "cell_type": "code",
   "execution_count": 109,
   "metadata": {},
   "outputs": [
    {
     "data": {
      "image/png": "[encoded data removed]",
      "text/latex": [
       "$\\displaystyle (\\cos{\\left(t \\right)})\\mathbf{\\hat{i}_{R}} + (\\sin{\\left(t \\right)})\\mathbf{\\hat{j}_{R}} + (t)\\mathbf{\\hat{k}_{R}}$"
      ],
      "text/plain": [
       "(cos(t))*R.i + (sin(t))*R.j + t*R.k"
      ]
     },
     "execution_count": 109,
     "metadata": {},
     "output_type": "execute_result"
    }
   ],
   "source": [
    "curve1(t)"
   ]
  },
  {
   "cell_type": "code",
   "execution_count": 112,
   "metadata": {},
   "outputs": [
    {
     "data": {
      "image/png": "[encoded data removed]",
      "text/latex": [
       "$\\displaystyle (\\frac{\\sqrt{2}}{2})\\mathbf{\\hat{i}_{R}} + (\\frac{\\sqrt{2}}{2})\\mathbf{\\hat{j}_{R}} + (\\frac{\\pi}{4})\\mathbf{\\hat{k}_{R}}$"
      ],
      "text/plain": [
       "(sqrt(2)/2)*R.i + (sqrt(2)/2)*R.j + pi/4*R.k"
      ]
     },
     "execution_count": 112,
     "metadata": {},
     "output_type": "execute_result"
    }
   ],
   "source": [
    "curve1(pi/4)"
   ]
  },
  {
   "cell_type": "code",
   "execution_count": null,
   "metadata": {},
   "outputs": [],
   "source": []
  }
 ],
 "metadata": {
  "kernelspec": {
   "display_name": "Python 3",
   "language": "python",
   "name": "python3"
  },
  "language_info": {
   "codemirror_mode": {
    "name": "ipython",
    "version": 3
   },
   "file_extension": ".py",
   "mimetype": "text/x-python",
   "name": "python",
   "nbconvert_exporter": "python",
   "pygments_lexer": "ipython3",
   "version": "3.7.6"
  },
  "toc": {
   "base_numbering": 1,
   "nav_menu": {},
   "number_sections": true,
   "sideBar": true,
   "skip_h1_title": false,
   "title_cell": "Table of Contents",
   "title_sidebar": "Contents",
   "toc_cell": false,
   "toc_position": {},
   "toc_section_display": true,
   "toc_window_display": false
  },
  "varInspector": {
   "cols": {
    "lenName": 16,
    "lenType": 16,
    "lenVar": 40
   },
   "kernels_config": {
    "python": {
     "delete_cmd_postfix": "",
     "delete_cmd_prefix": "del ",
     "library": "var_list.py",
     "varRefreshCmd": "print(var_dic_list())"
    },
    "r": {
     "delete_cmd_postfix": ") ",
     "delete_cmd_prefix": "rm(",
     "library": "var_list.r",
     "varRefreshCmd": "cat(var_dic_list()) "
    }
   },
   "types_to_exclude": [
    "module",
    "function",
    "builtin_function_or_method",
    "instance",
    "_Feature"
   ],
   "window_display": false
  }
 },
 "nbformat": 4,
 "nbformat_minor": 4
}
